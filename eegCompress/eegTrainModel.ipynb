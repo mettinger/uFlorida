{
 "cells": [
  {
   "cell_type": "code",
   "execution_count": 1,
   "metadata": {
    "id": "li7HX-beZFGg",
    "tags": []
   },
   "outputs": [],
   "source": [
    "%matplotlib widget\n",
    "import matplotlib.pyplot as plt\n",
    "\n",
    "import numpy as np\n",
    "import random\n",
    "import pandas as pd\n",
    "pd.set_option('display.max_columns', None)\n",
    "\n",
    "import torch\n",
    "from torch.utils.data.dataset import Dataset\n",
    "import torch.nn.functional as F\n",
    "\n",
    "import neptune\n",
    "from neptune_pytorch import NeptuneLogger\n",
    "from neptune.utils import stringify_unsupported\n",
    "\n",
    "import datetime\n",
    "import pytz\n",
    "timeZone = pytz.timezone('America/Los_Angeles')\n",
    "from operator import itemgetter\n",
    "\n",
    "from eegUtils import *\n",
    "from torchModels import * "
   ]
  },
  {
   "cell_type": "markdown",
   "metadata": {
    "id": "IGXT2d4lB0n5"
   },
   "source": [
    "# Read the data from Google Drive"
   ]
  },
  {
   "cell_type": "code",
   "execution_count": 2,
   "metadata": {
    "colab": {
     "base_uri": "https://localhost:8080/"
    },
    "id": "Z78SjRnaX9bF",
    "outputId": "439db100-5aa5-4b49-850d-6b0cf3135775",
    "tags": []
   },
   "outputs": [
    {
     "name": "stdout",
     "output_type": "stream",
     "text": [
      "Data has been moved to GPU\n",
      "(19, 1100367)\n"
     ]
    }
   ],
   "source": [
    "dataMultiply = 10**5\n",
    "sFreq = 256\n",
    "arrayInCompressedFile = 'arr_7'\n",
    "\n",
    "data = np.load('/blue/gkalamangalam/jmark.ettinger/eegCompress/processedData/elimPeaksSVD001.npz')[arrayInCompressedFile]\n",
    "nChannel, nSample = data.shape\n",
    "data = (data * dataMultiply).astype('float32')\n",
    "dataTensor = torch.tensor(data)\n",
    "if torch.cuda.is_available():\n",
    "  dataTensor = dataTensor.to('cuda')\n",
    "  print(\"Data has been moved to GPU\")\n",
    "else:\n",
    "  print(\"Data is on CPU\")\n",
    "print(data.shape)"
   ]
  },
  {
   "cell_type": "markdown",
   "metadata": {
    "id": "byjCmPBeZFGo"
   },
   "source": [
    "# Define Model, Optimizer, DataSet and Optionally Load from Drive"
   ]
  },
  {
   "cell_type": "code",
   "execution_count": 3,
   "metadata": {
    "colab": {
     "base_uri": "https://localhost:8080/"
    },
    "id": "OGgAiuo8ZFGo",
    "outputId": "f1a3ae86-dfe2-40c6-f3b5-364f07b648bb",
    "tags": []
   },
   "outputs": [
    {
     "name": "stdout",
     "output_type": "stream",
     "text": [
      "model size: 1.836MB\n",
      "fullyConnected(\n",
      "  (myNet): Sequential(\n",
      "    (0): Linear(in_features=380, out_features=300, bias=True)\n",
      "    (1): LeakyReLU(negative_slope=0.01)\n",
      "    (2): Linear(in_features=300, out_features=300, bias=True)\n",
      "    (3): LeakyReLU(negative_slope=0.01)\n",
      "    (4): Linear(in_features=300, out_features=300, bias=True)\n",
      "    (5): LeakyReLU(negative_slope=0.01)\n",
      "    (6): Linear(in_features=300, out_features=300, bias=True)\n",
      "    (7): LeakyReLU(negative_slope=0.01)\n",
      "    (8): Linear(in_features=300, out_features=300, bias=True)\n",
      "    (9): LeakyReLU(negative_slope=0.01)\n",
      "    (10): Linear(in_features=300, out_features=19, bias=True)\n",
      "  )\n",
      ")\n",
      "Model has been moved to GPU\n"
     ]
    }
   ],
   "source": [
    "# Set parameters\n",
    "modelType = 'fullyConnected'\n",
    "loadBool = 0\n",
    "#modelPath = '/content/drive/MyDrive/NeuroResearch/Data/eegCompress/models/savedModel_03-28 19:04_-0.034.pt'\n",
    "\n",
    "numSampleInput = 20\n",
    "numSampleOutput = 1\n",
    "\n",
    "if modelType == 'fullyConnected':\n",
    "    inSize = nChannel * numSampleInput\n",
    "    outSize = nChannel * numSampleOutput\n",
    "    hiddenLayerSizeList = [300, 300, 300, 300, 300]\n",
    "    layerSizeList = [inSize] + hiddenLayerSizeList + [outSize]\n",
    "    model = fullyConnected(nChannel, numSampleInput, layerSizeList)\n",
    "    dataset = datasetFullyConnected(dataTensor, numSampleInput)\n",
    "    sizeOfModel = modelSize(model)\n",
    "elif modelType == 'conv1d':\n",
    "    model = conv1d(nChannel, numSampleInput)\n",
    "    dataset = datasetConv1d(dataTensor, numSampleInput)\n",
    "    sizeOfModel = modelSize(model)\n",
    "elif modelType == 'fourier':\n",
    "    model = fourierModel(numSampleInput)\n",
    "    dataset = datasetFourier(dataTensor, numSampleInput)\n",
    "    sizeOfModel = modelSize(model)\n",
    "\n",
    "loss_function = torch.nn.MSELoss()\n",
    "optimizer = torch.optim.SGD(model.parameters(), lr=0.001, momentum=0.0)\n",
    "#optimizer = torch.optim.Adam(model.parameters())#, lr = 1e-1, weight_decay = 1e-8)\n",
    "\n",
    "if loadBool:\n",
    "  model, optimizer, totalEpoch, loss = loadModel(modelPath, model, optimizer, trainBool=True)\n",
    "  print(\"Model has been loaded: \" + modelPath)\n",
    "else:\n",
    "  totalEpoch = 0\n",
    "\n",
    "print(model)\n",
    "\n",
    "if torch.cuda.is_available():\n",
    "  model.to('cuda')\n",
    "  print(\"Model has been moved to GPU\")\n",
    "else:\n",
    "  print(\"Model is on CPU\")\n"
   ]
  },
  {
   "cell_type": "code",
   "execution_count": 6,
   "metadata": {
    "colab": {
     "base_uri": "https://localhost:8080/"
    },
    "id": "WWeZ4PRYCGWR",
    "outputId": "7b4deb16-8cc9-4416-a7bb-a7d0ce4ba240",
    "tags": []
   },
   "outputs": [
    {
     "name": "stderr",
     "output_type": "stream",
     "text": [
      "[neptune] [warning] NeptuneWarning: By default, these monitoring options are disabled in interactive sessions: 'capture_stdout', 'capture_stderr', 'capture_traceback', 'capture_hardware_metrics'. You can set them to 'True' when initializing the run and the monitoring will continue until you call run.stop() or the kernel stops. NOTE: To track the source files, pass their paths to the 'source_code' argument. For help, see: https://docs.neptune.ai/logging/source_code/\n"
     ]
    },
    {
     "name": "stdout",
     "output_type": "stream",
     "text": [
      "[neptune] [info   ] Neptune initialized. Open in the app: https://app.neptune.ai/jettinger35/eegCompress/e/EEG-224\n"
     ]
    }
   ],
   "source": [
    "logFlag = True\n",
    "\n",
    "if logFlag:\n",
    "  run = neptune.init_run(\n",
    "      project=\"jettinger35/eegCompress\",\n",
    "      api_token=\"eyJhcGlfYWRkcmVzcyI6Imh0dHBzOi8vYXBwLm5lcHR1bmUuYWkiLCJhcGlfdXJsIjoiaHR0cHM6Ly9hcHAubmVwdHVuZS5haSIsImFwaV9rZXkiOiIzMjFlMzY2MS1iOWZiLTRmZWEtOGMwNy0zOTVkMTljOGVjYTMifQ==\",\n",
    "      #with_id=\"EEG-116\"\n",
    "      )\n",
    "\n",
    "  npt_logger = NeptuneLogger(\n",
    "      run=run,\n",
    "      model=model)"
   ]
  },
  {
   "cell_type": "markdown",
   "metadata": {
    "id": "uvj5MCOA1ASz"
   },
   "source": [
    "# Training loop"
   ]
  },
  {
   "cell_type": "code",
   "execution_count": null,
   "metadata": {
    "colab": {
     "base_uri": "https://localhost:8080/"
    },
    "id": "3oawEnUlXEOO",
    "outputId": "93ffa385-10e2-4b73-9270-a42c5b0ae4c5"
   },
   "outputs": [
    {
     "name": "stdout",
     "output_type": "stream",
     "text": [
      "Epoch: 50\n",
      "Predicting and generating sampler...\n",
      "Residual measure: 1.5350472582013983\n",
      "Epoch: 51\n",
      "Predicting and generating sampler...\n",
      "Residual measure: 1.3643422471849542\n",
      "Epoch: 52\n",
      "Predicting and generating sampler...\n",
      "Residual measure: 1.4009140416195518\n",
      "Epoch: 53\n",
      "Predicting and generating sampler...\n",
      "Residual measure: 1.342402197812733\n",
      "Epoch: 54\n",
      "Predicting and generating sampler...\n",
      "Residual measure: 1.3640127966278477\n",
      "Model has been saved: savedModel_03-28 15:36_-0.024.pt\n",
      "Epoch: 55\n",
      "Predicting and generating sampler...\n",
      "Residual measure: 1.374902772276025\n",
      "Epoch: 56\n",
      "Predicting and generating sampler...\n",
      "Residual measure: 1.3642288728764183\n",
      "Epoch: 57\n",
      "Predicting and generating sampler...\n",
      "Residual measure: 1.3741223467023749\n",
      "Epoch: 58\n",
      "Predicting and generating sampler...\n",
      "Residual measure: 1.383317072140543\n",
      "Epoch: 59\n",
      "Predicting and generating sampler...\n",
      "Residual measure: 1.3142531074975665\n",
      "Model has been saved: savedModel_03-28 15:59_-0.034.pt\n",
      "Epoch: 60\n",
      "Predicting and generating sampler...\n",
      "Residual measure: 1.3586277616651434\n",
      "Epoch: 61\n",
      "Predicting and generating sampler...\n",
      "Residual measure: 1.3424906260088871\n",
      "Epoch: 62\n",
      "Predicting and generating sampler...\n",
      "Residual measure: 1.3656588635946576\n",
      "Epoch: 63\n",
      "Predicting and generating sampler...\n",
      "Residual measure: 1.3067771227736222\n",
      "Epoch: 64\n",
      "Predicting and generating sampler...\n",
      "Residual measure: 1.3288070308534723\n",
      "Model has been saved: savedModel_03-28 16:23_-0.026.pt\n",
      "Epoch: 65\n",
      "Predicting and generating sampler...\n",
      "Residual measure: 1.3363954613083286\n",
      "Epoch: 66\n",
      "Predicting and generating sampler...\n",
      "Residual measure: 1.3285575634554814\n",
      "Epoch: 67\n",
      "Predicting and generating sampler...\n",
      "Residual measure: 1.3189112669543217\n",
      "Epoch: 68\n",
      "Predicting and generating sampler...\n",
      "Residual measure: 1.3012833312938088\n",
      "Epoch: 69\n",
      "Predicting and generating sampler...\n",
      "Residual measure: 1.322998715074439\n",
      "Model has been saved: savedModel_03-28 16:46_-0.026.pt\n",
      "Epoch: 70\n",
      "Predicting and generating sampler...\n",
      "Residual measure: 1.2876177492894625\n",
      "Epoch: 71\n",
      "Predicting and generating sampler...\n",
      "Residual measure: 1.2931394106463383\n",
      "Epoch: 72\n",
      "Predicting and generating sampler...\n",
      "Residual measure: 1.356985164316077\n",
      "Epoch: 73\n",
      "Predicting and generating sampler...\n",
      "Residual measure: 1.3159974091931392\n",
      "Epoch: 74\n",
      "Predicting and generating sampler...\n",
      "Residual measure: 1.2618026513802378\n",
      "Model has been saved: savedModel_03-28 17:09_-0.034.pt\n",
      "Epoch: 75\n",
      "Predicting and generating sampler...\n",
      "Residual measure: 1.287561269182908\n",
      "Epoch: 76\n",
      "Predicting and generating sampler...\n",
      "Residual measure: 1.2901608159667568\n",
      "Epoch: 77\n",
      "Predicting and generating sampler...\n",
      "Residual measure: 1.2841977665298863\n",
      "Epoch: 78\n",
      "Predicting and generating sampler...\n",
      "Residual measure: 1.2726936183477704\n",
      "Epoch: 79\n",
      "Predicting and generating sampler...\n",
      "Residual measure: 1.3201127209161456\n",
      "Model has been saved: savedModel_03-28 17:32_-0.027.pt\n",
      "Epoch: 80\n",
      "Predicting and generating sampler...\n",
      "Residual measure: 1.30131470215948\n",
      "Epoch: 81\n",
      "Predicting and generating sampler...\n",
      "Residual measure: 1.2601733239073503\n",
      "Epoch: 82\n",
      "Predicting and generating sampler...\n",
      "Residual measure: 1.2783325502746983\n",
      "Epoch: 83\n",
      "Predicting and generating sampler...\n",
      "Residual measure: 1.2460674957225197\n",
      "Epoch: 84\n",
      "Predicting and generating sampler...\n",
      "Residual measure: 1.2425536576070284\n",
      "Model has been saved: savedModel_03-28 17:55_-0.030.pt\n",
      "Epoch: 85\n",
      "Predicting and generating sampler...\n",
      "Residual measure: 1.2830712387436314\n",
      "Epoch: 86\n",
      "Predicting and generating sampler...\n",
      "Residual measure: 1.3170692638347024\n",
      "Epoch: 87\n",
      "Predicting and generating sampler...\n",
      "Residual measure: 1.253476924017856\n",
      "Epoch: 88\n",
      "Predicting and generating sampler...\n",
      "Residual measure: 1.2746729819398177\n",
      "Epoch: 89\n",
      "Predicting and generating sampler...\n",
      "Residual measure: 1.3054001425441943\n",
      "Model has been saved: savedModel_03-28 18:18_-0.026.pt\n",
      "Epoch: 90\n",
      "Predicting and generating sampler...\n",
      "Residual measure: 1.244039093193255\n",
      "Epoch: 91\n",
      "Predicting and generating sampler...\n",
      "Residual measure: 1.284922697042164\n",
      "Epoch: 92\n",
      "Predicting and generating sampler...\n",
      "Residual measure: 1.2607645894351758\n",
      "Epoch: 93\n",
      "Predicting and generating sampler...\n",
      "Residual measure: 1.2476059857167696\n",
      "Epoch: 94\n",
      "Predicting and generating sampler...\n",
      "Residual measure: 1.295765641488527\n",
      "Model has been saved: savedModel_03-28 18:41_-0.026.pt\n",
      "Epoch: 95\n",
      "Predicting and generating sampler...\n",
      "Residual measure: 1.26590832597331\n",
      "Epoch: 96\n",
      "Predicting and generating sampler...\n",
      "Residual measure: 1.2462537194553174\n",
      "Epoch: 97\n",
      "Predicting and generating sampler...\n",
      "Residual measure: 1.2563416424550509\n",
      "Epoch: 98\n",
      "Predicting and generating sampler...\n",
      "Residual measure: 1.321301086952812\n",
      "Epoch: 99\n",
      "Predicting and generating sampler...\n",
      "Residual measure: 1.242835399351622\n",
      "Model has been saved: savedModel_03-28 19:04_-0.034.pt\n",
      "Finished training...\n"
     ]
    }
   ],
   "source": [
    "epochs = 50\n",
    "batchSize = 32\n",
    "numRandomPlot = 2\n",
    "secondsToPlot = 5\n",
    "saveEveryNEpochs = 5 # 0 for no saving\n",
    "\n",
    "# initialize\n",
    "breakFlag = False\n",
    "loader = torch.utils.data.DataLoader(dataset, batch_size=batchSize, shuffle=False, sampler=None)\n",
    "\n",
    "# training loop\n",
    "for epoch in range(epochs):\n",
    "    counter = 0\n",
    "\n",
    "    print(\"Epoch: \" + str(totalEpoch))\n",
    "    if breakFlag:\n",
    "      print(\"Break!\")\n",
    "      break\n",
    "    for (thisBlock, label) in loader:\n",
    "        counter += 1\n",
    "        prediction = model(thisBlock)\n",
    "        if np.any(np.isnan(prediction.detach().cpu().numpy())):\n",
    "            print(\"NaN detected.  Counter: \" + str(counter))\n",
    "            breakFlag = True\n",
    "            break\n",
    "        loss = loss_function(prediction, label)\n",
    "\n",
    "        optimizer.zero_grad()\n",
    "        loss.backward()\n",
    "\n",
    "        max_norm = 1.0\n",
    "        torch.nn.utils.clip_grad_norm_(model.parameters(), max_norm)\n",
    "\n",
    "        optimizer.step()\n",
    "        if logFlag:\n",
    "            run[npt_logger.base_namespace][\"train/log_loss\"].append(np.log(loss.item()))\n",
    "\n",
    "    if logFlag:\n",
    "      # plot random locations for original and predicted for comparison\n",
    "      for i in range(numRandomPlot):\n",
    "\n",
    "          startPlot = random.randint(0, nSample - (secondsToPlot * sFreq))\n",
    "          fig, original, predicted = timeSeriesCompare(model, startPlot, secondsToPlot, sFreq, data, numSampleInput)\n",
    "          plt.title(\"Epoch, Start, Blocks: \" + str((totalEpoch, startPlot, secondsToPlot)))\n",
    "          run[\"fig\"].append(fig)\n",
    "          plt.close()\n",
    "\n",
    "    totalEpoch += 1\n",
    "\n",
    "    print(\"Predicting and generating sampler...\")\n",
    "    sampler, predicted, residualMeasure = samplerMake(model, numSampleInput, data)\n",
    "    loader = torch.utils.data.DataLoader(dataset, batch_size=batchSize, shuffle=False, sampler=sampler)\n",
    "\n",
    "    if saveEveryNEpochs > 0 and (epoch + 1) % saveEveryNEpochs == 0:\n",
    "      saveModel(model, optimizer, totalEpoch, loss, predicted)\n",
    "\n",
    "print(\"Finished training...\")"
   ]
  },
  {
   "cell_type": "markdown",
   "metadata": {
    "id": "0aPNgp4gW_5W"
   },
   "source": [
    "# Save the model"
   ]
  },
  {
   "cell_type": "code",
   "execution_count": null,
   "metadata": {
    "colab": {
     "base_uri": "https://localhost:8080/"
    },
    "id": "_LLbQ5rDW-tA",
    "outputId": "4c4ab8b4-a7ae-4b24-ee5d-b88d8ef9aeec"
   },
   "outputs": [
    {
     "name": "stdout",
     "output_type": "stream",
     "text": [
      "Model has been saved: savedModel_03-22 09:01 [1000, 1000, 1000].pt\n"
     ]
    }
   ],
   "source": [
    "sampler, predicted, residualMeasure = samplerMake(model, numSampleInput, data)\n",
    "saveModel(model, optimizer, totalEpoch, loss, predicted)"
   ]
  },
  {
   "cell_type": "markdown",
   "metadata": {
    "id": "NjGv6LJS0u06"
   },
   "source": [
    "# Compare the time series"
   ]
  },
  {
   "cell_type": "code",
   "execution_count": null,
   "metadata": {
    "colab": {
     "base_uri": "https://localhost:8080/",
     "height": 430
    },
    "id": "8MX4N__GVAWa",
    "outputId": "f50ef3ad-bc9d-4998-f797-3cfd7e821658"
   },
   "outputs": [
    {
     "data": {
      "image/png": "[encoded data removed]",
      "text/plain": [
       "<Figure size 640x480 with 1 Axes>"
      ]
     },
     "metadata": {},
     "output_type": "display_data"
    }
   ],
   "source": [
    "plotBool = 1\n",
    "\n",
    "if plotBool:\n",
    "  startPlot = 1000\n",
    "  secondsToPlot = 5\n",
    "  channel = 0\n",
    "  plotOption = 'both'\n",
    "\n",
    "  fig, original, predicted64 = timeSeriesCompare(model, startPlot, secondsToPlot, sFreq, data, numSampleInput, channel, plotOption)\n",
    "  plt.show(fig)"
   ]
  },
  {
   "cell_type": "markdown",
   "metadata": {
    "id": "QiajJ-Hq1f6m"
   },
   "source": [
    "# Save original and predicted data for local graphical comparison"
   ]
  },
  {
   "cell_type": "code",
   "execution_count": null,
   "metadata": {
    "id": "-8PRONaU1e13"
   },
   "outputs": [],
   "source": [
    "predicted = predictEEG(model, None, data)"
   ]
  },
  {
   "cell_type": "code",
   "execution_count": null,
   "metadata": {
    "id": "Kap82C5COj2s"
   },
   "outputs": [],
   "source": [
    "path = '/content/drive/MyDrive/NeuroResearch/Data/eegCompress/processedData/origAndPredictedSVD001_block7.npz'\n",
    "dataToSaveList = [data, predicted]\n",
    "np.savez_compressed(path, *dataToSaveList)"
   ]
  },
  {
   "cell_type": "markdown",
   "metadata": {
    "id": "mxVAcHWqPbt8"
   },
   "source": [
    "# Show network parameters"
   ]
  },
  {
   "cell_type": "code",
   "execution_count": null,
   "metadata": {
    "colab": {
     "base_uri": "https://localhost:8080/"
    },
    "id": "dTYLWBOCfp9W",
    "outputId": "61763a4e-86c1-429e-820e-e77cc1a7592a"
   },
   "outputs": [
    {
     "name": "stdout",
     "output_type": "stream",
     "text": [
      "('myNet.0.weight', torch.Size([50, 19, 3]))\n",
      "('myNet.0.bias', torch.Size([50]))\n",
      "('myNet.2.weight', torch.Size([50, 50, 3]))\n",
      "('myNet.2.bias', torch.Size([50]))\n",
      "('myNet.4.weight', torch.Size([50, 50, 3]))\n",
      "('myNet.4.bias', torch.Size([50]))\n",
      "('myNet.7.weight', torch.Size([19, 700]))\n",
      "('myNet.7.bias', torch.Size([19]))\n"
     ]
    }
   ],
   "source": [
    "for name, param in model.named_parameters():\n",
    "    print((name, param.shape))"
   ]
  },
  {
   "cell_type": "markdown",
   "metadata": {
    "id": "dhhtZuYDBCP6"
   },
   "source": [
    "# Scratch"
   ]
  },
  {
   "cell_type": "code",
   "execution_count": null,
   "metadata": {},
   "outputs": [],
   "source": [
    "# EXPORT ONNX FOR VISUALIZATION IN NETRON APP\n",
    "\n",
    "visualizationPath = '/content/drive/MyDrive/NeuroResearch/Data/eegCompress/models/model.onnx'\n",
    "dataset = datasetMake(torch.tensor(data[:,100:200]), model.numSampleInput, model.typeCode)\n",
    "loader = torch.utils.data.DataLoader(dataset, batch_size=1, shuffle=False, sampler=None)\n",
    "batch, label = next(loader.__iter__())\n",
    "yhat = model(batch)\n",
    "\n",
    "torch.onnx.export(model, batch, f=visualizationPath)"
   ]
  }
 ],
 "metadata": {
  "colab": {
   "provenance": []
  },
  "kernelspec": {
   "display_name": "PyTorch-2.2.0",
   "language": "python",
   "name": "pytorch-2.2.0"
  },
  "language_info": {
   "codemirror_mode": {
    "name": "ipython",
    "version": 3
   },
   "file_extension": ".py",
   "mimetype": "text/x-python",
   "name": "python",
   "nbconvert_exporter": "python",
   "pygments_lexer": "ipython3",
   "version": "3.10.13"
  }
 },
 "nbformat": 4,
 "nbformat_minor": 4
}
