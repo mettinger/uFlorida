{
 "cells": [
  {
   "cell_type": "code",
   "execution_count": 1,
   "metadata": {
    "id": "O7KOU3RctXpJ",
    "tags": []
   },
   "outputs": [],
   "source": [
    "import numpy as np\n",
    "import cuml\n",
    "from cuml import KMeans\n",
    "from cuml.cluster import KMeans\n",
    "import cudf\n",
    "import sys\n",
    "import pandas as pd"
   ]
  },
  {
   "cell_type": "markdown",
   "metadata": {},
   "source": [
    "# Load original and predicted"
   ]
  },
  {
   "cell_type": "code",
   "execution_count": 2,
   "metadata": {
    "colab": {
     "base_uri": "https://localhost:8080/"
    },
    "id": "JNQ1lHLY3Ij4",
    "outputId": "6ab2c55f-12de-4df9-ef9c-eb99a04cb0a4",
    "tags": []
   },
   "outputs": [
    {
     "name": "stdout",
     "output_type": "stream",
     "text": [
      "(1100366, 19)\n",
      "(550183, 38)\n"
     ]
    }
   ],
   "source": [
    "processedData = np.load('/blue/gkalamangalam/jmark.ettinger/eegCompress/processedData/origAndPredictedSVD001_block7.npz')\n",
    "data = processedData['arr_0']\n",
    "#predicted = processedData['arr_1']\n",
    "#residual = predicted - data\n",
    "\n",
    "residual = np.diff(data)\n",
    "nChannel, nSample = data.shape\n",
    "residual = residual.transpose()\n",
    "\n",
    "nStack = 2\n",
    "residualStack = np.reshape(residual,(int((nSample-1)/nStack), nStack * nChannel),order='C')\n",
    "print(residual.shape)\n",
    "print(residualStack.shape)"
   ]
  },
  {
   "cell_type": "markdown",
   "metadata": {},
   "source": [
    "# Prepare unit norm residuals"
   ]
  },
  {
   "cell_type": "code",
   "execution_count": 3,
   "metadata": {
    "tags": []
   },
   "outputs": [
    {
     "name": "stdout",
     "output_type": "stream",
     "text": [
      "(1100366, 19)\n"
     ]
    }
   ],
   "source": [
    "residualNormalized = np.zeros((nSample-1, nChannel))\n",
    "norms = np.linalg.norm(residual, axis=1)\n",
    "for i in range(nSample-1):\n",
    "    for j in range(nChannel):\n",
    "        residualNormalized[i,j] = residual[i,j]/norms[i] \n",
    "print(residualNormalized.shape)"
   ]
  },
  {
   "cell_type": "markdown",
   "metadata": {},
   "source": [
    "# Fit kmeans model"
   ]
  },
  {
   "cell_type": "code",
   "execution_count": 12,
   "metadata": {
    "colab": {
     "base_uri": "https://localhost:8080/",
     "height": 1000
    },
    "id": "c8xR-z_pxB6j",
    "outputId": "c37b4d79-96dc-4902-f5c4-36c579ef8bec",
    "tags": []
   },
   "outputs": [
    {
     "name": "stdout",
     "output_type": "stream",
     "text": [
      "1\n",
      "(65536, 38)\n",
      "52609.953125\n",
      "CPU times: user 10min 49s, sys: 1min 8s, total: 11min 57s\n",
      "Wall time: 11min 59s\n"
     ]
    }
   ],
   "source": [
    "%%time\n",
    "kmeansInputData = residualStack\n",
    "n_clusters = 2**16\n",
    "n_init = 5\n",
    "\n",
    "kmeans = KMeans(n_clusters=n_clusters, verbose=6, n_init=n_init)\n",
    "kmeans.fit(kmeansInputData)\n",
    "centroids = kmeans.cluster_centers_\n",
    "print(kmeans.n_iter_)\n",
    "print(centroids.shape)\n",
    "print(kmeans.inertia_)"
   ]
  },
  {
   "cell_type": "markdown",
   "metadata": {
    "id": "VxAXnCxXSVAy"
   },
   "source": [
    "# Save KMeans model"
   ]
  },
  {
   "cell_type": "code",
   "execution_count": 4,
   "metadata": {
    "id": "v8ZQrFT2Re_U",
    "tags": []
   },
   "outputs": [],
   "source": [
    "path = '/blue/gkalamangalam/jmark.ettinger/eegCompress/processedData/centroids_001_block7.npy'\n",
    "np.save(path, centroids)\n",
    "\n",
    "path = '/blue/gkalamangalam/jmark.ettinger/eegCompress/processedData/labels_001_block7.npy'\n",
    "np.save(path, kmeans.labels_)"
   ]
  },
  {
   "cell_type": "markdown",
   "metadata": {
    "id": "TYJq6wgVSX9O"
   },
   "source": [
    "# Load CUML KMeans model"
   ]
  },
  {
   "cell_type": "code",
   "execution_count": null,
   "metadata": {
    "id": "v8PvZ3vNRJyB"
   },
   "outputs": [],
   "source": [
    "path = '/content/drive/MyDrive/NeuroResearch/Data/eegCompress/processedData/centroids_001_block7.npy'\n",
    "centroids = np.load(path)\n",
    "nCentroids,_ = centroids.shape\n",
    "kmeansCuml = KMeans(n_clusters=nCentroids, init=centroids, n_init=1)"
   ]
  },
  {
   "cell_type": "markdown",
   "metadata": {},
   "source": [
    "# Reconstruct using Norm"
   ]
  },
  {
   "cell_type": "code",
   "execution_count": 8,
   "metadata": {
    "tags": []
   },
   "outputs": [
    {
     "name": "stdout",
     "output_type": "stream",
     "text": [
      "100000\n",
      "200000\n",
      "300000\n",
      "400000\n",
      "500000\n",
      "600000\n",
      "700000\n",
      "800000\n",
      "900000\n",
      "1000000\n",
      "1100000\n",
      "CPU times: user 29min 9s, sys: 5min 9s, total: 34min 18s\n",
      "Wall time: 34min 30s\n"
     ]
    }
   ],
   "source": [
    "%%time\n",
    "numSampleInput = 1\n",
    "numSampleOutput = 1\n",
    "failureIndex,_ = kmeansInputData\n",
    "\n",
    "predicted = np.zeros_like(kmeansInputData)\n",
    "predicted[:,0:numSampleInput] = data[:,0:numSampleInput]\n",
    "\n",
    "dotProduct = np.zeros(nSample - 1)\n",
    "\n",
    "for i in range(numSampleInput, nSample):\n",
    "    if i % 100000 == 0:\n",
    "        print(i)\n",
    "        \n",
    "    thisOutput = predicted[:,i-1]\n",
    "    thisResidual = data[:,i] - thisOutput\n",
    "    thisResidualUnit = thisResidual/np.linalg.norm(thisResidual) \n",
    "    index = int(kmeans.predict(np.expand_dims(thisResidualUnit, 0))[0])\n",
    "    thisCentroid = centroids[index,:]\n",
    "    \n",
    "    thisDotProduct = np.dot(thisResidual, thisCentroid)\n",
    "    dotProduct[i-1] = thisDotProduct\n",
    "    predicted[:,i] = thisOutput + (thisDotProduct * thisCentroid)\n",
    "    \n",
    "    if np.any(np.isnan(predicted[:,i])):\n",
    "        failureIndex = i\n",
    "        print(\"nan: \" + str(failureIndex))\n",
    "    "
   ]
  },
  {
   "cell_type": "markdown",
   "metadata": {},
   "source": [
    "# Reconstruct the data"
   ]
  },
  {
   "cell_type": "code",
   "execution_count": 7,
   "metadata": {
    "colab": {
     "base_uri": "https://localhost:8080/"
    },
    "id": "Nuo2KzlTTDqP",
    "outputId": "a730a2cf-8c48-49db-dbe9-a6d3204499c6",
    "tags": []
   },
   "outputs": [
    {
     "name": "stdout",
     "output_type": "stream",
     "text": [
      "100000\n",
      "200000\n",
      "300000\n",
      "400000\n",
      "500000\n",
      "600000\n",
      "700000\n",
      "800000\n",
      "900000\n",
      "1000000\n",
      "1100000\n",
      "CPU times: user 24min 44s, sys: 5min 18s, total: 30min 3s\n",
      "Wall time: 30min 13s\n"
     ]
    }
   ],
   "source": [
    "%%time\n",
    "numSampleInput = 1\n",
    "numSampleOutput = 1\n",
    "nChannel,failureIndex = data.shape\n",
    "\n",
    "predicted = np.zeros_like(data)\n",
    "predicted[:,0:numSampleInput] = data[:,0:numSampleInput]\n",
    "\n",
    "for i in range(numSampleInput, int(nSample/numSampleOutput)):\n",
    "    if i % 100000 == 0:\n",
    "        print(i)\n",
    "        \n",
    "    thisOutput = predicted[:,i-1: i-1 + numSampleOutput]\n",
    "    thisResidual = data[:,i:i + numSampleOutput] - thisOutput\n",
    "    thisResidualReshape = np.reshape(thisResidual,(nChannel * numSampleInput,),order='F')\n",
    "    index = int(kmeans.predict(np.expand_dims(thisResidualReshape, 0))[0])\n",
    "    predicted[:,i:i + numSampleOutput] = thisOutput + np.reshape(centroids[index,:], (nChannel,numSampleOutput))\n",
    "    \n",
    "    if np.any(np.isnan(predicted[:,i])):\n",
    "        failureIndex = i\n",
    "        print(\"nan: \" + str(failureIndex))\n",
    "    "
   ]
  },
  {
   "cell_type": "code",
   "execution_count": 8,
   "metadata": {
    "tags": []
   },
   "outputs": [
    {
     "data": {
      "text/plain": [
       "(0.044620942, 0.69908047)"
      ]
     },
     "execution_count": 8,
     "metadata": {},
     "output_type": "execute_result"
    }
   ],
   "source": [
    "np.mean(np.abs(data - predicted)), np.max(np.abs(data - predicted))"
   ]
  },
  {
   "cell_type": "markdown",
   "metadata": {},
   "source": [
    " current best: (0.044626124, 0.6939485)"
   ]
  },
  {
   "cell_type": "markdown",
   "metadata": {},
   "source": [
    "# Save original and predicted"
   ]
  },
  {
   "cell_type": "code",
   "execution_count": 10,
   "metadata": {
    "id": "vImqGqzJS8Dh",
    "tags": []
   },
   "outputs": [],
   "source": [
    "path = '/blue/gkalamangalam/jmark.ettinger/eegCompress/processedData/origAndPredictedLossy.npz'\n",
    "dataToSaveList = [data[:,0:failureIndex], predicted[:, 0:failureIndex]]\n",
    "np.savez_compressed(path, *dataToSaveList)"
   ]
  },
  {
   "cell_type": "markdown",
   "metadata": {
    "id": "jaK1mJneWd4k"
   },
   "source": [
    "# Scratch"
   ]
  }
 ],
 "metadata": {
  "accelerator": "GPU",
  "colab": {
   "gpuType": "T4",
   "provenance": []
  },
  "kernelspec": {
   "display_name": "RAPIDSai-24.08",
   "language": "python",
   "name": "rapidsai-24.08"
  },
  "language_info": {
   "codemirror_mode": {
    "name": "ipython",
    "version": 3
   },
   "file_extension": ".py",
   "mimetype": "text/x-python",
   "name": "python",
   "nbconvert_exporter": "python",
   "pygments_lexer": "ipython3",
   "version": "3.11.9"
  }
 },
 "nbformat": 4,
 "nbformat_minor": 4
}
