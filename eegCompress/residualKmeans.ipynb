{
 "cells": [
  {
   "cell_type": "code",
   "execution_count": 1,
   "metadata": {
    "id": "O7KOU3RctXpJ",
    "tags": []
   },
   "outputs": [],
   "source": [
    "%matplotlib widget\n",
    "import numpy as np\n",
    "import cuml\n",
    "from cuml import KMeans\n",
    "from cuml.cluster import KMeans\n",
    "import cudf\n",
    "import sys\n",
    "import pandas as pd\n",
    "import matplotlib.pyplot as plt\n",
    "import datetime\n",
    "import pytz\n",
    "timeZone = pytz.timezone('America/Los_Angeles')\n",
    "\n",
    "from myUtils import *"
   ]
  },
  {
   "cell_type": "code",
   "execution_count": 2,
   "metadata": {
    "tags": []
   },
   "outputs": [],
   "source": [
    "def reconstruct(toPredict, predictor, kmeansModel, nStack):\n",
    "    predicted = np.zeros_like(data)\n",
    "    predicted[:,1] = toPredict[:,1]\n",
    "\n",
    "    #stackedSamples, _ = residualStack.shape\n",
    "    _, cols = toPredict.shape\n",
    "    counter = 1\n",
    "    #for i in range(0, nStack):\n",
    "    while counter + nStack <= cols:\n",
    "        if counter % 100000 == 0:\n",
    "            myPrint(\"predicting sample: \" + str(counter))\n",
    "\n",
    "        thisToPredict = toPredict[:, counter:counter + nStack].flatten(order='F')\n",
    "        thisPredictor = np.repeat(predicted[:, counter - 1], nStack)\n",
    "        thisResidual = thisToPredict - thisPredictor\n",
    "        \n",
    "        kmeansModel.fit(np.expand_dims(thisResidual,0))\n",
    "        \n",
    "        index = int(kmeans.predict(np.expand_dims(thisResidual, 0))[0])\n",
    "        thisCentroid = centroids[index,:]\n",
    "        for j in range(nStack):\n",
    "            predicted[:, counter] = data[:, counter - 1 - j] + thisCentroid[j * nChannel: (j+1) * nChannel].transpose()\n",
    "            counter += 1\n",
    "            \n",
    "    return predicted, kmeansModel\n",
    "\n",
    "\n",
    "def prepareResiduals(nStack, toPredict, predictor):\n",
    "\n",
    "    _, nSample = toPredict.shape\n",
    "    residualStack = np.zeros((nSample, nStack * nChannel))\n",
    "    counter = 0\n",
    "    for i in range(0, nSample, nStack):\n",
    "        if i + nStack >= nSample:\n",
    "            break\n",
    "        thisPredictor = np.repeat(predictor[:,i].transpose(), nStack)\n",
    "        thisToPredict = toPredict[:,i + 1: i + 1 + nStack].flatten(order='F').transpose()\n",
    "        thisResidual = thisToPredict - thisPredictor\n",
    "        residualStack[counter, :] = thisResidual\n",
    "        counter += 1\n",
    "\n",
    "    residualStack = residualStack[0:counter,:]\n",
    "    return residualStack"
   ]
  },
  {
   "cell_type": "markdown",
   "metadata": {},
   "source": [
    "# Load original and predicted data"
   ]
  },
  {
   "cell_type": "code",
   "execution_count": 3,
   "metadata": {
    "colab": {
     "base_uri": "https://localhost:8080/"
    },
    "id": "JNQ1lHLY3Ij4",
    "outputId": "6ab2c55f-12de-4df9-ef9c-eb99a04cb0a4",
    "tags": []
   },
   "outputs": [
    {
     "name": "stdout",
     "output_type": "stream",
     "text": [
      "(19, 1100367)\n"
     ]
    }
   ],
   "source": [
    "processedData = np.load('/blue/gkalamangalam/jmark.ettinger/eegCompress/processedData/origAndPredictedSVD001_block7.npz')\n",
    "data = processedData['arr_0']\n",
    "nChannel, nSample = data.shape\n",
    "\n",
    "print(data.shape)"
   ]
  },
  {
   "cell_type": "markdown",
   "metadata": {},
   "source": [
    "# Prepare stacked residuals"
   ]
  },
  {
   "cell_type": "code",
   "execution_count": 5,
   "metadata": {
    "tags": []
   },
   "outputs": [
    {
     "name": "stdout",
     "output_type": "stream",
     "text": [
      "(1100366, 19)\n"
     ]
    }
   ],
   "source": [
    "nStack = 1\n",
    "\n",
    "residualStack = prepareResiduals(nStack, data, data)\n",
    "print(residualStack.shape)"
   ]
  },
  {
   "cell_type": "markdown",
   "metadata": {},
   "source": [
    "# Fit kmeans model"
   ]
  },
  {
   "cell_type": "code",
   "execution_count": null,
   "metadata": {
    "colab": {
     "base_uri": "https://localhost:8080/",
     "height": 1000
    },
    "id": "c8xR-z_pxB6j",
    "outputId": "c37b4d79-96dc-4902-f5c4-36c579ef8bec",
    "tags": []
   },
   "outputs": [
    {
     "name": "stdout",
     "output_type": "stream",
     "text": [
      "04-11 16:59: Initializing kmeans model...\n",
      "\n"
     ]
    }
   ],
   "source": [
    "%%time\n",
    "kmeansInputData = residualStack\n",
    "n_clusters = 2**16\n",
    "n_init = 1\n",
    "\n",
    "try:\n",
    "    kmeans.fit(kmeansInputData)\n",
    "except:\n",
    "    myPrint(\"Initializing kmeans model...\")\n",
    "    kmeans = KMeans(n_clusters=n_clusters, verbose=6, n_init=n_init)\n",
    "    kmeans.fit(kmeansInputData)\n",
    "    \n",
    "centroids = kmeans.cluster_centers_\n",
    "labels = kmeans.labels_\n",
    "myPrint(kmeans.n_iter_)\n",
    "myPrint(centroids.shape)\n",
    "myPrint(kmeans.inertia_)"
   ]
  },
  {
   "cell_type": "markdown",
   "metadata": {
    "id": "VxAXnCxXSVAy"
   },
   "source": [
    "# Save KMeans model"
   ]
  },
  {
   "cell_type": "code",
   "execution_count": null,
   "metadata": {
    "id": "v8ZQrFT2Re_U",
    "tags": []
   },
   "outputs": [],
   "source": [
    "path = '/blue/gkalamangalam/jmark.ettinger/eegCompress/processedData/kmeansModels/kmeansModel_001_block7_1stack.npz'\n",
    "np.savez(path, centroids, labels)"
   ]
  },
  {
   "cell_type": "markdown",
   "metadata": {
    "id": "TYJq6wgVSX9O"
   },
   "source": [
    "# Load KMeans model"
   ]
  },
  {
   "cell_type": "code",
   "execution_count": 4,
   "metadata": {
    "id": "v8PvZ3vNRJyB"
   },
   "outputs": [
    {
     "ename": "FileNotFoundError",
     "evalue": "[Errno 2] No such file or directory: '/blue/gkalamangalam/jmark.ettinger/eegCompress/processedData/kmeansModels/kmeansModel_001_block7_1stack.npz'",
     "output_type": "error",
     "traceback": [
      "\u001b[0;31m---------------------------------------------------------------------------\u001b[0m",
      "\u001b[0;31mFileNotFoundError\u001b[0m                         Traceback (most recent call last)",
      "Cell \u001b[0;32mIn[4], line 2\u001b[0m\n\u001b[1;32m      1\u001b[0m path \u001b[38;5;241m=\u001b[39m \u001b[38;5;124m'\u001b[39m\u001b[38;5;124m/blue/gkalamangalam/jmark.ettinger/eegCompress/processedData/kmeansModels/kmeansModel_001_block7_1stack.npz\u001b[39m\u001b[38;5;124m'\u001b[39m\n\u001b[0;32m----> 2\u001b[0m npzfile \u001b[38;5;241m=\u001b[39m \u001b[43mnp\u001b[49m\u001b[38;5;241;43m.\u001b[39;49m\u001b[43mload\u001b[49m\u001b[43m(\u001b[49m\u001b[43mpath\u001b[49m\u001b[43m)\u001b[49m\n\u001b[1;32m      3\u001b[0m centroids \u001b[38;5;241m=\u001b[39m npzfile[\u001b[38;5;124m'\u001b[39m\u001b[38;5;124marr_0\u001b[39m\u001b[38;5;124m'\u001b[39m]\n\u001b[1;32m      4\u001b[0m labels \u001b[38;5;241m=\u001b[39m npzfile[\u001b[38;5;124m'\u001b[39m\u001b[38;5;124marr_1\u001b[39m\u001b[38;5;124m'\u001b[39m]\n",
      "File \u001b[0;32m/opt/conda/lib/python3.11/site-packages/numpy/lib/npyio.py:427\u001b[0m, in \u001b[0;36mload\u001b[0;34m(file, mmap_mode, allow_pickle, fix_imports, encoding, max_header_size)\u001b[0m\n\u001b[1;32m    425\u001b[0m     own_fid \u001b[38;5;241m=\u001b[39m \u001b[38;5;28;01mFalse\u001b[39;00m\n\u001b[1;32m    426\u001b[0m \u001b[38;5;28;01melse\u001b[39;00m:\n\u001b[0;32m--> 427\u001b[0m     fid \u001b[38;5;241m=\u001b[39m stack\u001b[38;5;241m.\u001b[39menter_context(\u001b[38;5;28;43mopen\u001b[39;49m\u001b[43m(\u001b[49m\u001b[43mos_fspath\u001b[49m\u001b[43m(\u001b[49m\u001b[43mfile\u001b[49m\u001b[43m)\u001b[49m\u001b[43m,\u001b[49m\u001b[43m \u001b[49m\u001b[38;5;124;43m\"\u001b[39;49m\u001b[38;5;124;43mrb\u001b[39;49m\u001b[38;5;124;43m\"\u001b[39;49m\u001b[43m)\u001b[49m)\n\u001b[1;32m    428\u001b[0m     own_fid \u001b[38;5;241m=\u001b[39m \u001b[38;5;28;01mTrue\u001b[39;00m\n\u001b[1;32m    430\u001b[0m \u001b[38;5;66;03m# Code to distinguish from NumPy binary files and pickles.\u001b[39;00m\n",
      "\u001b[0;31mFileNotFoundError\u001b[0m: [Errno 2] No such file or directory: '/blue/gkalamangalam/jmark.ettinger/eegCompress/processedData/kmeansModels/kmeansModel_001_block7_1stack.npz'"
     ]
    }
   ],
   "source": [
    "path = '/blue/gkalamangalam/jmark.ettinger/eegCompress/processedData/kmeansModels/kmeansModel_001_block7_1stack.npz'\n",
    "npzfile = np.load(path)\n",
    "centroids = npzfile['arr_0']\n",
    "labels = npzfile['arr_1']\n",
    "\n",
    "nCentroids,_ = centroids.shape\n",
    "kmeans = KMeans(n_clusters=nCentroids, init=centroids, n_init=1)"
   ]
  },
  {
   "cell_type": "markdown",
   "metadata": {},
   "source": [
    "# Reconstruct the data from stacked residuals and centroids"
   ]
  },
  {
   "cell_type": "code",
   "execution_count": null,
   "metadata": {
    "tags": []
   },
   "outputs": [],
   "source": [
    "predicted = data"
   ]
  },
  {
   "cell_type": "code",
   "execution_count": null,
   "metadata": {
    "tags": []
   },
   "outputs": [],
   "source": [
    "%%time\n",
    "iterations = 5\n",
    "nStack = 1\n",
    "\n",
    "for i in range(iterations):\n",
    "    myPrint(\"reconstruct iteration: \" + str(i))\n",
    "    predicted, kmeans = reconstruct(data, predicted, kmeans, nStack)\n",
    "    \n",
    "    directory = '/blue/gkalamangalam/jmark.ettinger/eegCompress/processedData/kmeansModels/'\n",
    "    time = str(datetime.datetime.now().astimezone(timeZone).strftime('%m-%d %H:%M'))\n",
    "    filename = 'kmeansModel_stack' + str(nStack) + '_' +  time + '.npz'\n",
    "    path = directory + filename\n",
    "    \n",
    "    centroids = kmeans.cluster_centers_\n",
    "    labels = kmeans.labels_\n",
    "    np.savez(path, centroids, labels)\n",
    "    \n",
    "    filename = 'predicted_' +  time + '.npz'\n",
    "    path = directory + filename\n",
    "    np.savez(path, predicted)\n",
    "\n",
    "    myPrint(str((np.mean(np.abs(data - predicted)), np.max(np.abs(data - predicted)))))\n",
    "    "
   ]
  },
  {
   "cell_type": "code",
   "execution_count": 9,
   "metadata": {
    "tags": []
   },
   "outputs": [
    {
     "data": {
      "text/plain": [
       "(0.0, 0.0)"
      ]
     },
     "execution_count": 9,
     "metadata": {},
     "output_type": "execute_result"
    }
   ],
   "source": [
    "np.mean(np.abs(data - predicted)), np.max(np.abs(data - predicted))"
   ]
  },
  {
   "cell_type": "markdown",
   "metadata": {},
   "source": [
    " current best: (0.044626124, 0.6939485)"
   ]
  },
  {
   "cell_type": "code",
   "execution_count": 16,
   "metadata": {
    "tags": []
   },
   "outputs": [
    {
     "data": {
      "application/vnd.jupyter.widget-view+json": {
       "model_id": "bb957539915b46c1ab7dc177bc547bd7",
       "version_major": 2,
       "version_minor": 0
      },
      "image/png": "[encoded data removed]",
      "text/html": [
       "\n",
       "            <div style=\"display: inline-block;\">\n",
       "                <div class=\"jupyter-widgets widget-label\" style=\"text-align: center;\">\n",
       "                    Figure\n",
       "                </div>\n",
       "                <img src='data:image/png;base64,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' width=640.0/>\n",
       "            </div>\n",
       "        "
      ],
      "text/plain": [
       "Canvas(toolbar=Toolbar(toolitems=[('Home', 'Reset original view', 'home', 'home'), ('Back', 'Back to previous …"
      ]
     },
     "metadata": {},
     "output_type": "display_data"
    }
   ],
   "source": [
    "channel = 0\n",
    "\n",
    "plt.figure()\n",
    "plt.plot(predicted[channel,:], label='predicted')\n",
    "plt.plot(data[channel,:], label='original')\n",
    "residual = data - predicted\n",
    "#plt.plot(residual[channel,:])\n",
    "plt.legend()\n",
    "plt.show()"
   ]
  },
  {
   "cell_type": "markdown",
   "metadata": {},
   "source": [
    "# Save original and predicted"
   ]
  },
  {
   "cell_type": "code",
   "execution_count": 10,
   "metadata": {
    "id": "vImqGqzJS8Dh",
    "tags": []
   },
   "outputs": [],
   "source": [
    "path = '/blue/gkalamangalam/jmark.ettinger/eegCompress/processedData/origAndPredictedLossy.npz'\n",
    "dataToSaveList = [data[:,0:failureIndex], predicted[:, 0:failureIndex]]\n",
    "np.savez_compressed(path, *dataToSaveList)"
   ]
  },
  {
   "cell_type": "markdown",
   "metadata": {
    "id": "jaK1mJneWd4k"
   },
   "source": [
    "# Scratch"
   ]
  },
  {
   "cell_type": "code",
   "execution_count": null,
   "metadata": {},
   "outputs": [],
   "source": [
    "# PREPARE UNIT NORM RESIDUALS\n",
    "\n",
    "residualNormalized = np.zeros((nSample-1, nChannel))\n",
    "norms = np.linalg.norm(residual, axis=1)\n",
    "for i in range(nSample-1):\n",
    "    for j in range(nChannel):\n",
    "        residualNormalized[i,j] = residual[i,j]/norms[i] \n",
    "print(residualNormalized.shape)"
   ]
  },
  {
   "cell_type": "code",
   "execution_count": null,
   "metadata": {},
   "outputs": [],
   "source": [
    "nStack = 1\n",
    "\n",
    "residualStack = np.zeros((nSample, nStack * nChannel))\n",
    "counter = 0\n",
    "for i in range(0, nSample, nStack):\n",
    "    if i + nStack >= nSample:\n",
    "        break\n",
    "    thisPredictor = np.repeat(data[:,i].transpose(), nStack)\n",
    "    thisToPredict = data[:,i + 1: i + 1 + nStack].flatten(order='F').transpose()\n",
    "    thisResidual = thisToPredict - thisPredictor\n",
    "    residualStack[counter, :] = thisResidual\n",
    "    counter += 1\n",
    "    \n",
    "residualStack = residualStack[0:counter,:]\n",
    "print(residualStack.shape)"
   ]
  },
  {
   "cell_type": "code",
   "execution_count": null,
   "metadata": {},
   "outputs": [],
   "source": [
    "%%time\n",
    "\n",
    "predicted = np.zeros_like(data)\n",
    "predicted[:,1] = data[:,1]\n",
    "\n",
    "stackedSamples, _ = residualStack.shape\n",
    "counter = 1\n",
    "for i in range(0, stackedSamples):\n",
    "    if i % 100000 == 0:\n",
    "        print(i)\n",
    "        \n",
    "    thisToPredict = data[:, counter:counter + nStack].flatten(order='F')\n",
    "    thisPredictor = np.repeat(predicted[:, counter - 1], nStack)\n",
    "    thisResidual = thisToPredict - thisPredictor\n",
    "    index = int(kmeans.predict(np.expand_dims(thisResidual, 0))[0])\n",
    "    thisCentroid = centroids[index,:]\n",
    "    for j in range(nStack):\n",
    "        predicted[:, counter] = data[:, counter - 1 - j] + thisCentroid[j * nChannel: (j+1) * nChannel].transpose()\n",
    "        counter += 1\n",
    "        "
   ]
  },
  {
   "cell_type": "code",
   "execution_count": null,
   "metadata": {},
   "outputs": [],
   "source": [
    "%%time\n",
    "\n",
    "predicted = np.zeros_like(data)\n",
    "predicted[:,1] = data[:,1]\n",
    "\n",
    "stackedRows, stackedCols = residualStack.shape\n",
    "counter = 1\n",
    "for i in range(0, stackedRows):\n",
    "    if i % 100000 == 0:\n",
    "        print(i)\n",
    "        \n",
    "    #thisPredictor = np.repeat(data[:,i].transpose(), nStack)\n",
    "    index = labels[i]\n",
    "    thisCentroid = centroids[index,:]\n",
    "    for j in range(nStack):\n",
    "        predicted[:, counter] = data[:, counter - 1 - j] + thisCentroid[j * nChannel: (j+1) * nChannel].transpose()\n",
    "        counter += 1\n",
    "        "
   ]
  },
  {
   "cell_type": "code",
   "execution_count": null,
   "metadata": {},
   "outputs": [],
   "source": [
    "# RECONSTRUCT USING NORM\n",
    "%%time\n",
    "numSampleInput = 1\n",
    "numSampleOutput = 1\n",
    "failureIndex,_ = kmeansInputData\n",
    "\n",
    "predicted = np.zeros_like(kmeansInputData)\n",
    "predicted[:,0:numSampleInput] = data[:,0:numSampleInput]\n",
    "\n",
    "dotProduct = np.zeros(nSample - 1)\n",
    "\n",
    "for i in range(numSampleInput, nSample):\n",
    "    if i % 100000 == 0:\n",
    "        print(i)\n",
    "        \n",
    "    thisOutput = predicted[:,i-1]\n",
    "    thisResidual = data[:,i] - thisOutput\n",
    "    thisResidualUnit = thisResidual/np.linalg.norm(thisResidual) \n",
    "    index = int(kmeans.predict(np.expand_dims(thisResidualUnit, 0))[0])\n",
    "    thisCentroid = centroids[index,:]\n",
    "    \n",
    "    thisDotProduct = np.dot(thisResidual, thisCentroid)\n",
    "    dotProduct[i-1] = thisDotProduct\n",
    "    predicted[:,i] = thisOutput + (thisDotProduct * thisCentroid)\n",
    "    \n",
    "    if np.any(np.isnan(predicted[:,i])):\n",
    "        failureIndex = i\n",
    "        print(\"nan: \" + str(failureIndex))\n",
    "    "
   ]
  },
  {
   "cell_type": "code",
   "execution_count": null,
   "metadata": {},
   "outputs": [],
   "source": [
    "%%time\n",
    "numSampleInput = 1\n",
    "numSampleOutput = 1\n",
    "nChannel,failureIndex = data.shape\n",
    "\n",
    "predicted = np.zeros_like(data)\n",
    "predicted[:,0:numSampleInput] = data[:,0:numSampleInput]\n",
    "\n",
    "for i in range(numSampleInput, int(nSample/numSampleOutput)):\n",
    "    if i % 100000 == 0:\n",
    "        print(i)\n",
    "        \n",
    "    thisOutput = predicted[:,i-1: i-1 + numSampleOutput]\n",
    "    thisResidual = data[:,i:i + numSampleOutput] - thisOutput\n",
    "    thisResidualReshape = np.reshape(thisResidual,(nChannel * numSampleInput,),order='F')\n",
    "    index = int(kmeans.predict(np.expand_dims(thisResidualReshape, 0))[0])\n",
    "    predicted[:,i:i + numSampleOutput] = thisOutput + np.reshape(centroids[index,:], (nChannel,numSampleOutput))\n",
    "    \n",
    "    if np.any(np.isnan(predicted[:,i])):\n",
    "        failureIndex = i\n",
    "        print(\"nan: \" + str(failureIndex))\n",
    "        break\n",
    "    "
   ]
  },
  {
   "cell_type": "code",
   "execution_count": null,
   "metadata": {},
   "outputs": [],
   "source": [
    "%%time\n",
    "numSampleInput = 1\n",
    "\n",
    "predicted = np.zeros_like(data)\n",
    "predicted[:,0:numSampleInput] = data[:,0:numSampleInput]\n",
    "\n",
    "for i in range(0, nSample - 3, 2):\n",
    "    if i % 100000 == 0:\n",
    "        print(i)\n",
    "        \n",
    "    thisOriginal = np.concatenate((data[:,i], data[:,i]), axis = 0)\n",
    "    thisToPredict = np.concatenate((data[:,i + 1], data[:,i + 2]), axis = 0)\n",
    "    thisResidual = -thisOriginal + thisToPredict\n",
    "    #thisResidualReshape = np.reshape(thisResidual,(nChannel * numSampleInput,),order='F')\n",
    "    index = int(kmeans.predict(np.expand_dims(thisResidual, 0))[0])\n",
    "    thisCentroid = centroids[index,:]\n",
    "    predicted[:,i + 1] = data[:,i] + thisCentroid[0:nChannel].transpose()\n",
    "    predicted[:,i + 2] = data[:,i] + thisCentroid[nChannel:].transpose()\n",
    "    \n",
    "    if np.any(np.isnan(predicted[:,i])):\n",
    "        failureIndex = i\n",
    "        print(\"nan: \" + str(failureIndex))\n",
    "        break\n",
    "    "
   ]
  }
 ],
 "metadata": {
  "accelerator": "GPU",
  "colab": {
   "gpuType": "T4",
   "provenance": []
  },
  "kernelspec": {
   "display_name": "myRapids",
   "language": "python",
   "name": "myrapids"
  },
  "language_info": {
   "codemirror_mode": {
    "name": "ipython",
    "version": 3
   },
   "file_extension": ".py",
   "mimetype": "text/x-python",
   "name": "python",
   "nbconvert_exporter": "python",
   "pygments_lexer": "ipython3",
   "version": "3.11.9"
  }
 },
 "nbformat": 4,
 "nbformat_minor": 4
}
