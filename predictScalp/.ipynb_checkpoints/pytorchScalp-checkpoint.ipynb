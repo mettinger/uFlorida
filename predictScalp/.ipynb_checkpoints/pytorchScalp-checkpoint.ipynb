{
 "cells": [
  {
   "cell_type": "code",
   "execution_count": 1,
   "id": "a5d3475a",
   "metadata": {},
   "outputs": [
    {
     "name": "stderr",
     "output_type": "stream",
     "text": [
      "2023-03-26 14:28:47,296\tINFO worker.py:1553 -- Started a local Ray instance.\n"
     ]
    }
   ],
   "source": [
    "%matplotlib notebook\n",
    "import numpy as np\n",
    "import matplotlib.pyplot as plt\n",
    "\n",
    "from scipy.signal import spectrogram, stft, istft, check_NOLA\n",
    "\n",
    "import ray\n",
    "ray.init(include_dashboard=True, num_cpus = 8, dashboard_host='0.0.0.0')\n",
    "\n",
    "plt.style.use('ggplot')"
   ]
  },
  {
   "cell_type": "markdown",
   "id": "0a6db8c0",
   "metadata": {},
   "source": [
    "# UTILITY FUNCTIONS"
   ]
  },
  {
   "cell_type": "code",
   "execution_count": 2,
   "id": "1f63db3b",
   "metadata": {},
   "outputs": [],
   "source": [
    "subsampleFreq = 64   # FINAL FREQUENCY IN HERTZ AFTER SUBSAMPLING\n",
    "secondsInWindow = 1.\n",
    "nperseg = subsampleFreq * secondsInWindow\n",
    "noverlap = nperseg - 1\n",
    "window = ('tukey', .25)"
   ]
  },
  {
   "cell_type": "code",
   "execution_count": 3,
   "id": "fe7e2826",
   "metadata": {},
   "outputs": [],
   "source": [
    "# CONVERT STFT FROM R,THETA TO COMPLEX\n",
    "# dim(z) = (# timesteps, # freq bins x 2 (2 reals = 1 complex))\n",
    "\n",
    "def rThetaToComplex(z):\n",
    "    rows, cols = z.shape\n",
    "    shortTermFourier = np.zeros((rows, cols // 2), dtype=np.csingle)\n",
    "    for i in range(rows):\n",
    "        for k in range(cols // 2):\n",
    "            r = z[i,k]\n",
    "            theta = z[i, (k + cols // 2)]\n",
    "            shortTermFourier[i,k] =  r * np.exp(complex(0, theta))\n",
    "    return shortTermFourier.transpose() # dim = (# freq bins, # timepoints)\n",
    "\n",
    "# CONVERT REAL STFT TO COMPLEX STFT, INVERT TO GET THE ISTFT (I.E. TIME SERIES), THEN PLOT\n",
    "\n",
    "def realSTFTtoTimeSeries(realSTFT):\n",
    "    shortTermFourierComplex = rThetaToComplex(realSTFT)\n",
    "    times, inverseShortFourier = istft(shortTermFourierComplex, \n",
    "                                       fs=subsampleFreq, \n",
    "                                       window=window, \n",
    "                                       nperseg=nperseg, \n",
    "                                       noverlap=noverlap)\n",
    "    return times, inverseShortFourier"
   ]
  },
  {
   "cell_type": "markdown",
   "id": "ffbbd749",
   "metadata": {},
   "source": [
    "# LOAD NUMPY ARRAYS"
   ]
  },
  {
   "cell_type": "code",
   "execution_count": 4,
   "id": "722126ac",
   "metadata": {},
   "outputs": [],
   "source": [
    "arraySavePath = '/blue/gkalamangalam/jmark.ettinger/predictScalp/trainTestRTheta.npz'\n",
    "npzfile = np.load(arraySavePath)\n",
    "x_trainRTheta = npzfile['x_trainRTheta']\n",
    "x_validRTheta = npzfile['x_validRTheta'] \n",
    "y_trainRTheta = npzfile['y_trainRTheta'] \n",
    "y_validRTheta = npzfile['y_validRTheta']\n",
    "\n",
    "_,nY = y_validRTheta.shape"
   ]
  },
  {
   "cell_type": "markdown",
   "id": "ceb960c9",
   "metadata": {},
   "source": [
    "# LIGHTGBM"
   ]
  },
  {
   "cell_type": "code",
   "execution_count": 5,
   "id": "ccb49d67",
   "metadata": {},
   "outputs": [],
   "source": [
    "# NATIVE LIGHTGBM API VERSION\n",
    "\n",
    "modelDirectory = '/blue/gkalamangalam/jmark.ettinger/predictScalp/lgbModels/'\n",
    "\n",
    "@ray.remote\n",
    "def train_index(x_trainRTheta, y_trainRTheta, x_validRTheta, y_validRTheta, index, init_model, num_iterations):\n",
    "    metric = 'mse'\n",
    "    early_stopping_rounds = 5\n",
    "\n",
    "    param = {'metric': metric, \n",
    "             'num_iterations': num_iterations,\n",
    "             'early_stopping_rounds': early_stopping_rounds,\n",
    "             'first_metric_only': True}\n",
    "\n",
    "    lgbTrain = lgb.Dataset(x_trainRTheta, label=y_trainRTheta[:,index], free_raw_data=False)\n",
    "    lgbValid = lgbTrain.create_valid(x_validRTheta, label=y_validRTheta[:,index])\n",
    "\n",
    "    bst = lgb.train(param, \n",
    "                    lgbTrain, \n",
    "                    valid_sets=[lgbValid, lgbTrain],\n",
    "                    init_model=init_model)\n",
    "    \n",
    "    bst.save_model(modelDirectory + 'lgbModel_%s.txt' % str(index), num_iteration=bst.best_iteration)\n",
    "    return bst\n",
    "\n",
    "def lgbPredictIndex(x, index):\n",
    "    bst = lgb.Booster(model_file=modelDirectory + 'lgbModel_%s.txt' % str(index))\n",
    "    ypred = bst.predict(x, num_iteration=bst.best_iteration)\n",
    "    return ypred\n",
    "\n",
    "def lgbPredict(x):\n",
    "    return np.array([lgbPredictIndex(x, index) for index in range(nY)]).transpose()\n",
    "\n",
    "xTrainRay = ray.put(x_trainRTheta)\n",
    "yTrainRay = ray.put(y_trainRTheta) \n",
    "xValidRay = ray.put(x_validRTheta)\n",
    "yValidRay = ray.put(y_validRTheta)"
   ]
  },
  {
   "cell_type": "code",
   "execution_count": 6,
   "id": "124090a4",
   "metadata": {},
   "outputs": [
    {
     "name": "stderr",
     "output_type": "stream",
     "text": [
      "\u001b[2m\u001b[36m(train_index pid=11088)\u001b[0m /home/jmark.ettinger/.local/lib/python3.8/site-packages/lightgbm/engine.py:177: UserWarning: Found `num_iterations` in params. Will use it instead of argument\n",
      "\u001b[2m\u001b[36m(train_index pid=11088)\u001b[0m   _log_warning(f\"Found `{alias}` in params. Will use it instead of argument\")\n",
      "\u001b[2m\u001b[36m(train_index pid=11094)\u001b[0m /home/jmark.ettinger/.local/lib/python3.8/site-packages/lightgbm/engine.py:177: UserWarning: Found `num_iterations` in params. Will use it instead of argument\n",
      "\u001b[2m\u001b[36m(train_index pid=11094)\u001b[0m   _log_warning(f\"Found `{alias}` in params. Will use it instead of argument\")\n",
      "\u001b[2m\u001b[36m(train_index pid=11091)\u001b[0m /home/jmark.ettinger/.local/lib/python3.8/site-packages/lightgbm/engine.py:177: UserWarning: Found `num_iterations` in params. Will use it instead of argument\n",
      "\u001b[2m\u001b[36m(train_index pid=11091)\u001b[0m   _log_warning(f\"Found `{alias}` in params. Will use it instead of argument\")\n",
      "\u001b[2m\u001b[36m(train_index pid=11093)\u001b[0m /home/jmark.ettinger/.local/lib/python3.8/site-packages/lightgbm/engine.py:177: UserWarning: Found `num_iterations` in params. Will use it instead of argument\n",
      "\u001b[2m\u001b[36m(train_index pid=11093)\u001b[0m   _log_warning(f\"Found `{alias}` in params. Will use it instead of argument\")\n",
      "\u001b[2m\u001b[36m(train_index pid=11092)\u001b[0m /home/jmark.ettinger/.local/lib/python3.8/site-packages/lightgbm/engine.py:177: UserWarning: Found `num_iterations` in params. Will use it instead of argument\n",
      "\u001b[2m\u001b[36m(train_index pid=11092)\u001b[0m   _log_warning(f\"Found `{alias}` in params. Will use it instead of argument\")\n",
      "\u001b[2m\u001b[36m(train_index pid=11089)\u001b[0m /home/jmark.ettinger/.local/lib/python3.8/site-packages/lightgbm/engine.py:177: UserWarning: Found `num_iterations` in params. Will use it instead of argument\n",
      "\u001b[2m\u001b[36m(train_index pid=11089)\u001b[0m   _log_warning(f\"Found `{alias}` in params. Will use it instead of argument\")\n",
      "\u001b[2m\u001b[36m(train_index pid=11096)\u001b[0m /home/jmark.ettinger/.local/lib/python3.8/site-packages/lightgbm/engine.py:177: UserWarning: Found `num_iterations` in params. Will use it instead of argument\n",
      "\u001b[2m\u001b[36m(train_index pid=11096)\u001b[0m   _log_warning(f\"Found `{alias}` in params. Will use it instead of argument\")\n",
      "\u001b[2m\u001b[36m(train_index pid=11090)\u001b[0m /home/jmark.ettinger/.local/lib/python3.8/site-packages/lightgbm/engine.py:177: UserWarning: Found `num_iterations` in params. Will use it instead of argument\n",
      "\u001b[2m\u001b[36m(train_index pid=11090)\u001b[0m   _log_warning(f\"Found `{alias}` in params. Will use it instead of argument\")\n"
     ]
    }
   ],
   "source": [
    "# TRAIN LIGHTGBM MODEL\n",
    "\n",
    "continueFlag = True\n",
    "num_iterations = 50\n",
    "\n",
    "result_ids = []\n",
    "for index in range(nY):\n",
    "    if continueFlag:\n",
    "        init_model = modelDirectory + 'lgbModel_%s.txt' % str(index)\n",
    "    else:\n",
    "        init_model = None\n",
    "        \n",
    "    result_ids.append(train_index.remote(xTrainRay, \n",
    "                                         yTrainRay, \n",
    "                                         xValidRay, \n",
    "                                         yValidRay, \n",
    "                                         index, \n",
    "                                         init_model, \n",
    "                                         num_iterations))\n",
    "#results = ray.get(result_ids)"
   ]
  },
  {
   "cell_type": "markdown",
   "id": "49094c64",
   "metadata": {},
   "source": [
    "# Plot results of fit"
   ]
  },
  {
   "cell_type": "code",
   "execution_count": null,
   "id": "a858773f",
   "metadata": {},
   "outputs": [],
   "source": [
    "# PLOT PREDICTION VERSUS TRUTH\n",
    "\n",
    "trainPlotFlag = False\n",
    "\n",
    "\n",
    "freqPredict = lgbPredict(x)\n",
    "title = 'LightGBM: ' + trainTitle\n",
    "    \n",
    "if trainPlotFlag:\n",
    "    x = x_trainRTheta\n",
    "    y = y_trainRTheta\n",
    "    trainTitle = 'train'\n",
    "else:\n",
    "    x = x_validRTheta\n",
    "    y = y_validRTheta\n",
    "    trainTitle = 'valididation'\n",
    "\n",
    "_, yPred = realSTFTtoTimeSeries(freqPredict)\n",
    "_, yTrue = realSTFTtoTimeSeries(y)\n",
    "\n",
    "plt.figure()\n",
    "plt.plot(yPred, label='predict')\n",
    "plt.plot(yTrue, label='true')\n",
    "plt.legend()\n",
    "plt.title(title)\n",
    "plt.show()"
   ]
  },
  {
   "cell_type": "code",
   "execution_count": null,
   "id": "e270d519",
   "metadata": {},
   "outputs": [],
   "source": []
  }
 ],
 "metadata": {
  "kernelspec": {
   "display_name": "PyTorch-1.13",
   "language": "python",
   "name": "pytorch-1.13"
  },
  "language_info": {
   "codemirror_mode": {
    "name": "ipython",
    "version": 3
   },
   "file_extension": ".py",
   "mimetype": "text/x-python",
   "name": "python",
   "nbconvert_exporter": "python",
   "pygments_lexer": "ipython3",
   "version": "3.8.6"
  }
 },
 "nbformat": 4,
 "nbformat_minor": 5
}
