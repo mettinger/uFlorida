{
 "cells": [
  {
   "cell_type": "code",
   "execution_count": 1,
   "metadata": {
    "id": "O7KOU3RctXpJ",
    "tags": []
   },
   "outputs": [],
   "source": [
    "%matplotlib widget\n",
    "import numpy as np\n",
    "import cuml\n",
    "from cuml import KMeans\n",
    "from cuml.cluster import KMeans\n",
    "import cudf\n",
    "import sys\n",
    "import pandas as pd\n",
    "import matplotlib.pyplot as plt\n",
    "import datetime\n",
    "import pytz\n",
    "timeZone = pytz.timezone('America/Los_Angeles')\n",
    "\n",
    "from myUtils import *"
   ]
  },
  {
   "cell_type": "code",
   "execution_count": 2,
   "metadata": {
    "tags": []
   },
   "outputs": [],
   "source": [
    "def reconstruct(toPredict, predictor, kmeansModel, nStack):\n",
    "    predicted = np.zeros_like(toPredict)\n",
    "    predicted[:,1] = toPredict[:,1]\n",
    "\n",
    "    #stackedSamples, _ = residualStack.shape\n",
    "    _, nSamples = toPredict.shape\n",
    "    counter = 1\n",
    "\n",
    "    while counter + nStack <= nSamples:\n",
    "        if counter % 100000 == 0:\n",
    "            myPrint(\"predicting sample: \" + str(counter))\n",
    "\n",
    "        thisToPredict = toPredict[:, counter:counter + nStack].flatten(order='F')\n",
    "        thisPredictor = np.repeat(predicted[:, counter - 1], nStack)\n",
    "        thisResidual = thisToPredict - thisPredictor\n",
    "        \n",
    "        #kmeansModel.fit(np.expand_dims(thisResidual,0))\n",
    "        \n",
    "        index = int(kmeans.predict(np.expand_dims(thisResidual, 0))[0])\n",
    "        thisCentroid = centroids[index,:]\n",
    "        for j in range(nStack):\n",
    "            predicted[:, counter] = data[:, counter - 1 - j] + thisCentroid[j * nChannel: (j+1) * nChannel].transpose()\n",
    "            counter += 1\n",
    "            \n",
    "    return predicted, kmeansModel\n",
    "\n",
    "\n",
    "def prepareResiduals(nStack, toPredict, predictor):\n",
    "\n",
    "    _, nSample = toPredict.shape\n",
    "    residualStack = np.zeros((nSample, nStack * nChannel))\n",
    "    counter = 0\n",
    "    for i in range(0, nSample, nStack):\n",
    "        if i + nStack >= nSample:\n",
    "            break\n",
    "        thisPredictor = np.repeat(predictor[:,i].transpose(), nStack)\n",
    "        thisToPredict = toPredict[:,i + 1: i + 1 + nStack].flatten(order='F').transpose()\n",
    "        thisResidual = thisToPredict - thisPredictor\n",
    "        residualStack[counter, :] = thisResidual\n",
    "        counter += 1\n",
    "\n",
    "    residualStack = residualStack[0:counter,:]\n",
    "    return residualStack"
   ]
  },
  {
   "cell_type": "markdown",
   "metadata": {},
   "source": [
    "# Load original and predicted data"
   ]
  },
  {
   "cell_type": "code",
   "execution_count": 3,
   "metadata": {
    "colab": {
     "base_uri": "https://localhost:8080/"
    },
    "id": "JNQ1lHLY3Ij4",
    "outputId": "6ab2c55f-12de-4df9-ef9c-eb99a04cb0a4",
    "tags": []
   },
   "outputs": [
    {
     "name": "stdout",
     "output_type": "stream",
     "text": [
      "(19, 1100367)\n"
     ]
    }
   ],
   "source": [
    "processedData = np.load('/blue/gkalamangalam/jmark.ettinger/eegCompress/processedData/origAndPredictedSVD001_block7.npz')\n",
    "data = processedData['arr_0']\n",
    "nChannel, nSample = data.shape\n",
    "\n",
    "print(data.shape)"
   ]
  },
  {
   "cell_type": "markdown",
   "metadata": {},
   "source": [
    "# Prepare stacked residuals"
   ]
  },
  {
   "cell_type": "code",
   "execution_count": null,
   "metadata": {
    "tags": []
   },
   "outputs": [],
   "source": [
    "nStack = 1\n",
    "\n",
    "residualStack = prepareResiduals(nStack, data, data)\n",
    "print(residualStack.shape)"
   ]
  },
  {
   "cell_type": "markdown",
   "metadata": {},
   "source": [
    "# Fit kmeans model"
   ]
  },
  {
   "cell_type": "code",
   "execution_count": null,
   "metadata": {
    "colab": {
     "base_uri": "https://localhost:8080/",
     "height": 1000
    },
    "id": "c8xR-z_pxB6j",
    "outputId": "c37b4d79-96dc-4902-f5c4-36c579ef8bec",
    "tags": []
   },
   "outputs": [],
   "source": [
    "%%time\n",
    "kmeansInputData = residualStack\n",
    "n_clusters = 2**16\n",
    "n_init = 1\n",
    "\n",
    "try:\n",
    "    kmeans.fit(kmeansInputData)\n",
    "except:\n",
    "    myPrint(\"Initializing kmeans model...\")\n",
    "    kmeans = KMeans(n_clusters=n_clusters, verbose=6, n_init=n_init)\n",
    "    kmeans.fit(kmeansInputData)\n",
    "    \n",
    "centroids = kmeans.cluster_centers_\n",
    "labels = kmeans.labels_\n",
    "myPrint(kmeans.n_iter_)\n",
    "myPrint(centroids.shape)\n",
    "myPrint(kmeans.inertia_)"
   ]
  },
  {
   "cell_type": "markdown",
   "metadata": {
    "id": "VxAXnCxXSVAy"
   },
   "source": [
    "# Save KMeans model"
   ]
  },
  {
   "cell_type": "code",
   "execution_count": null,
   "metadata": {
    "id": "v8ZQrFT2Re_U",
    "tags": []
   },
   "outputs": [],
   "source": [
    "path = '/blue/gkalamangalam/jmark.ettinger/eegCompress/processedData/kmeansModels/kmeansModel_001_block7_1stack.npz'\n",
    "np.savez(path, centroids, labels)"
   ]
  },
  {
   "cell_type": "markdown",
   "metadata": {
    "id": "TYJq6wgVSX9O"
   },
   "source": [
    "# Load KMeans model"
   ]
  },
  {
   "cell_type": "code",
   "execution_count": 7,
   "metadata": {
    "id": "v8PvZ3vNRJyB"
   },
   "outputs": [],
   "source": [
    "path = '/blue/gkalamangalam/jmark.ettinger/eegCompress/processedData/kmeansModels/kmeansModel_001_block7_1stack.npz'\n",
    "#npzfile = np.load(path)\n",
    "#centroids = npzfile['arr_0']\n",
    "#labels = npzfile['arr_1']\n",
    "\n",
    "n_clusters = 2**16\n",
    "centroids = np.diff(data)[:,0:n_clusters].transpose()\n",
    "\n",
    "nCentroids,_ = centroids.shape\n",
    "kmeans = KMeans(n_clusters=nCentroids, init=centroids, n_init=1)"
   ]
  },
  {
   "cell_type": "markdown",
   "metadata": {},
   "source": [
    "# Reconstruct the data from stacked residuals and centroids"
   ]
  },
  {
   "cell_type": "code",
   "execution_count": 8,
   "metadata": {
    "tags": []
   },
   "outputs": [],
   "source": [
    "predicted = data"
   ]
  },
  {
   "cell_type": "code",
   "execution_count": null,
   "metadata": {
    "tags": []
   },
   "outputs": [
    {
     "name": "stdout",
     "output_type": "stream",
     "text": [
      "04-12 13:14: reconstruct iteration: 0\n",
      "04-12 13:17: predicting sample: 100000\n",
      "04-12 13:19: predicting sample: 200000\n",
      "04-12 13:22: predicting sample: 300000\n",
      "04-12 13:24: predicting sample: 400000\n",
      "04-12 13:27: predicting sample: 500000\n",
      "04-12 13:30: predicting sample: 600000\n",
      "04-12 13:32: predicting sample: 700000\n"
     ]
    }
   ],
   "source": [
    "%%time\n",
    "iterations = 5\n",
    "nStack = 1\n",
    "\n",
    "for i in range(iterations):\n",
    "    myPrint(\"reconstruct iteration: \" + str(i))\n",
    "    predicted, kmeans = reconstruct(data, predicted, kmeans, nStack)\n",
    "    \n",
    "    myPrint(str((np.mean(np.abs(data - predicted)), np.max(np.abs(data - predicted)))))\n",
    "    \n",
    "    residuals = (data[:,1:] - predicted[:,0:-1]).transpose()\n",
    "    if i == 0:\n",
    "        residuals = residuals[n_clusters,:]\n",
    "        \n",
    "    kmeans.fit(residuals)\n",
    "    \n",
    "    # save kmeans model\n",
    "    directory = '/blue/gkalamangalam/jmark.ettinger/eegCompress/processedData/kmeansModels/'\n",
    "    time = str(datetime.datetime.now().astimezone(timeZone).strftime('%m-%d %H:%M'))\n",
    "    filename = 'kmeansModel_stack' + str(nStack) + '_' +  time + '.npz'\n",
    "    path = directory + filename\n",
    "    centroids = kmeans.cluster_centers_\n",
    "    labels = kmeans.labels_\n",
    "    np.savez(path, centroids, labels)\n",
    "    \n",
    "    # save reconstructed data\n",
    "    filename = 'predicted_' +  time + '.npz'\n",
    "    path = directory + filename\n",
    "    np.savez(path, predicted)\n",
    "    "
   ]
  },
  {
   "cell_type": "code",
   "execution_count": null,
   "metadata": {
    "tags": []
   },
   "outputs": [],
   "source": [
    "np.mean(np.abs(data - predicted)), np.max(np.abs(data - predicted))"
   ]
  },
  {
   "cell_type": "markdown",
   "metadata": {},
   "source": [
    " current best: (0.044626124, 0.6939485)"
   ]
  },
  {
   "cell_type": "code",
   "execution_count": null,
   "metadata": {
    "tags": []
   },
   "outputs": [],
   "source": [
    "channel = 0\n",
    "\n",
    "plt.figure()\n",
    "plt.plot(predicted[channel,:], label='predicted')\n",
    "plt.plot(data[channel,:], label='original')\n",
    "residual = data - predicted\n",
    "#plt.plot(residual[channel,:])\n",
    "plt.legend()\n",
    "plt.show()"
   ]
  },
  {
   "cell_type": "markdown",
   "metadata": {},
   "source": [
    "# Save original and predicted"
   ]
  },
  {
   "cell_type": "code",
   "execution_count": null,
   "metadata": {
    "id": "vImqGqzJS8Dh",
    "tags": []
   },
   "outputs": [],
   "source": [
    "path = '/blue/gkalamangalam/jmark.ettinger/eegCompress/processedData/origAndPredictedLossy.npz'\n",
    "dataToSaveList = [data[:,0:failureIndex], predicted[:, 0:failureIndex]]\n",
    "np.savez_compressed(path, *dataToSaveList)"
   ]
  },
  {
   "cell_type": "markdown",
   "metadata": {
    "id": "jaK1mJneWd4k"
   },
   "source": [
    "# Scratch"
   ]
  }
 ],
 "metadata": {
  "accelerator": "GPU",
  "colab": {
   "gpuType": "T4",
   "provenance": []
  },
  "kernelspec": {
   "display_name": "myRapids",
   "language": "python",
   "name": "myrapids"
  },
  "language_info": {
   "codemirror_mode": {
    "name": "ipython",
    "version": 3
   },
   "file_extension": ".py",
   "mimetype": "text/x-python",
   "name": "python",
   "nbconvert_exporter": "python",
   "pygments_lexer": "ipython3",
   "version": "3.11.9"
  }
 },
 "nbformat": 4,
 "nbformat_minor": 4
}
