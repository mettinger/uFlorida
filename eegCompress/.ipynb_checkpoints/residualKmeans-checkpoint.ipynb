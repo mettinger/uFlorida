{
 "cells": [
  {
   "cell_type": "code",
   "execution_count": 1,
   "metadata": {
    "id": "O7KOU3RctXpJ",
    "tags": []
   },
   "outputs": [],
   "source": [
    "%matplotlib widget\n",
    "import numpy as np\n",
    "import cuml\n",
    "from cuml import KMeans\n",
    "from cuml.cluster import KMeans\n",
    "import cudf\n",
    "import sys\n",
    "import pandas as pd\n",
    "import matplotlib.pyplot as plt"
   ]
  },
  {
   "cell_type": "code",
   "execution_count": 6,
   "metadata": {
    "tags": []
   },
   "outputs": [],
   "source": [
    "def reconstruct(data, kmeansModel):\n",
    "    predicted = np.zeros_like(data)\n",
    "    predicted[:,1] = data[:,1]\n",
    "\n",
    "    stackedSamples, _ = residualStack.shape\n",
    "    counter = 1\n",
    "    for i in range(0, stackedSamples):\n",
    "        if i % 100000 == 0:\n",
    "            print(\"stackedSample: \" + str(i))\n",
    "\n",
    "        thisToPredict = data[:, counter:counter + nStack].flatten(order='F')\n",
    "        thisPredictor = np.repeat(predicted[:, counter - 1], nStack)\n",
    "        thisResidual = thisToPredict - thisPredictor\n",
    "        \n",
    "        kmeansModel.fit(np.expand_dims(thisResidual,0))\n",
    "        \n",
    "        index = int(kmeans.predict(np.expand_dims(thisResidual, 0))[0])\n",
    "        thisCentroid = centroids[index,:]\n",
    "        for j in range(nStack):\n",
    "            predicted[:, counter] = data[:, counter - 1 - j] + thisCentroid[j * nChannel: (j+1) * nChannel].transpose()\n",
    "            counter += 1\n",
    "            \n",
    "    return predicted, kmeansModel"
   ]
  },
  {
   "cell_type": "markdown",
   "metadata": {},
   "source": [
    "# Load original and predicted data"
   ]
  },
  {
   "cell_type": "code",
   "execution_count": 2,
   "metadata": {
    "colab": {
     "base_uri": "https://localhost:8080/"
    },
    "id": "JNQ1lHLY3Ij4",
    "outputId": "6ab2c55f-12de-4df9-ef9c-eb99a04cb0a4",
    "tags": []
   },
   "outputs": [
    {
     "name": "stdout",
     "output_type": "stream",
     "text": [
      "(19, 1100367)\n"
     ]
    }
   ],
   "source": [
    "processedData = np.load('/blue/gkalamangalam/jmark.ettinger/eegCompress/processedData/origAndPredictedSVD001_block7.npz')\n",
    "data = processedData['arr_0']\n",
    "nChannel, nSample = data.shape\n",
    "\n",
    "print(data.shape)"
   ]
  },
  {
   "cell_type": "markdown",
   "metadata": {},
   "source": [
    "# Prepare stacked residuals"
   ]
  },
  {
   "cell_type": "code",
   "execution_count": 3,
   "metadata": {
    "tags": []
   },
   "outputs": [
    {
     "name": "stdout",
     "output_type": "stream",
     "text": [
      "(1100366, 19)\n"
     ]
    }
   ],
   "source": [
    "nStack = 1\n",
    "\n",
    "residualStack = np.zeros((nSample, nStack * nChannel))\n",
    "counter = 0\n",
    "for i in range(0, nSample, nStack):\n",
    "    if i + nStack >= nSample:\n",
    "        break\n",
    "    thisPredictor = np.repeat(data[:,i].transpose(), nStack)\n",
    "    thisToPredict = data[:,i + 1: i + 1 + nStack].flatten(order='F').transpose()\n",
    "    thisResidual = thisToPredict - thisPredictor\n",
    "    residualStack[counter, :] = thisResidual\n",
    "    counter += 1\n",
    "    \n",
    "residualStack = residualStack[0:counter,:]\n",
    "print(residualStack.shape)"
   ]
  },
  {
   "cell_type": "markdown",
   "metadata": {},
   "source": [
    "# Fit kmeans model"
   ]
  },
  {
   "cell_type": "code",
   "execution_count": 5,
   "metadata": {
    "colab": {
     "base_uri": "https://localhost:8080/",
     "height": 1000
    },
    "id": "c8xR-z_pxB6j",
    "outputId": "c37b4d79-96dc-4902-f5c4-36c579ef8bec",
    "tags": []
   },
   "outputs": [
    {
     "name": "stdout",
     "output_type": "stream",
     "text": [
      "2\n",
      "(65536, 19)\n",
      "0.0\n",
      "CPU times: user 103 ms, sys: 90.5 ms, total: 194 ms\n",
      "Wall time: 585 ms\n"
     ]
    }
   ],
   "source": [
    "%%time\n",
    "kmeansInputData = residualStack\n",
    "n_clusters = 2**16\n",
    "n_init = 1\n",
    "\n",
    "try:\n",
    "    kmeans.fit(kmeansInputData)\n",
    "except:\n",
    "    print(\"Initializing kmeans model...\")\n",
    "    kmeans = KMeans(n_clusters=n_clusters, verbose=6, n_init=n_init)\n",
    "    kmeans.fit(kmeansInputData)\n",
    "    \n",
    "centroids = kmeans.cluster_centers_\n",
    "labels = kmeans.labels_\n",
    "print(kmeans.n_iter_)\n",
    "print(centroids.shape)\n",
    "print(kmeans.inertia_)"
   ]
  },
  {
   "cell_type": "markdown",
   "metadata": {
    "id": "VxAXnCxXSVAy"
   },
   "source": [
    "# Save KMeans model"
   ]
  },
  {
   "cell_type": "code",
   "execution_count": 11,
   "metadata": {
    "id": "v8ZQrFT2Re_U",
    "tags": []
   },
   "outputs": [],
   "source": [
    "path = '/blue/gkalamangalam/jmark.ettinger/eegCompress/processedData/kmeansModel_001_block7_1stack.npz'\n",
    "np.savez(path, centroids, labels)"
   ]
  },
  {
   "cell_type": "markdown",
   "metadata": {
    "id": "TYJq6wgVSX9O"
   },
   "source": [
    "# Load KMeans model"
   ]
  },
  {
   "cell_type": "code",
   "execution_count": 4,
   "metadata": {
    "id": "v8PvZ3vNRJyB"
   },
   "outputs": [],
   "source": [
    "path = '/blue/gkalamangalam/jmark.ettinger/eegCompress/processedData/kmeansModel_001_block7_1stack.npz'\n",
    "npzfile = np.load(path)\n",
    "centroids = npzfile['arr_0']\n",
    "labels = npzfile['arr_1']\n",
    "\n",
    "nCentroids,_ = centroids.shape\n",
    "kmeans = KMeans(n_clusters=nCentroids, init=centroids, n_init=1)"
   ]
  },
  {
   "cell_type": "markdown",
   "metadata": {},
   "source": [
    "# Reconstruct the data from stacked residuals and centroids"
   ]
  },
  {
   "cell_type": "code",
   "execution_count": null,
   "metadata": {
    "tags": []
   },
   "outputs": [
    {
     "name": "stdout",
     "output_type": "stream",
     "text": [
      "0\n"
     ]
    }
   ],
   "source": [
    "%%time\n",
    "\n",
    "repetitions = 2\n",
    "for i in range(repetitions):\n",
    "    print(\"repetition: \" + str(i))\n",
    "    predicted, kmeans = reconstruct(data, kmeans)\n",
    "    print(np.mean(np.abs(data - predicted)), np.max(np.abs(data - predicted)))\n",
    "    "
   ]
  },
  {
   "cell_type": "markdown",
   "metadata": {},
   "source": [
    " current best: (0.044626124, 0.6939485)"
   ]
  },
  {
   "cell_type": "code",
   "execution_count": 13,
   "metadata": {
    "tags": []
   },
   "outputs": [
    {
     "data": {
      "application/vnd.jupyter.widget-view+json": {
       "model_id": "aa2f9b0de9424735946b4472206639a3",
       "version_major": 2,
       "version_minor": 0
      },
      "image/png": "[encoded data removed]",
      "text/html": [
       "\n",
       "            <div style=\"display: inline-block;\">\n",
       "                <div class=\"jupyter-widgets widget-label\" style=\"text-align: center;\">\n",
       "                    Figure\n",
       "                </div>\n",
       "                <img src='data:image/png;base64,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' width=640.0/>\n",
       "            </div>\n",
       "        "
      ],
      "text/plain": [
       "Canvas(toolbar=Toolbar(toolitems=[('Home', 'Reset original view', 'home', 'home'), ('Back', 'Back to previous …"
      ]
     },
     "metadata": {},
     "output_type": "display_data"
    }
   ],
   "source": [
    "channel = 0\n",
    "\n",
    "plt.figure()\n",
    "plt.plot(predicted[channel,:], label='predicted')\n",
    "plt.plot(data[channel,:], label='original')\n",
    "#plt.plot(residual[channel,:])\n",
    "plt.legend()\n",
    "plt.show()"
   ]
  },
  {
   "cell_type": "markdown",
   "metadata": {},
   "source": [
    "# Save original and predicted"
   ]
  },
  {
   "cell_type": "code",
   "execution_count": 10,
   "metadata": {
    "id": "vImqGqzJS8Dh",
    "tags": []
   },
   "outputs": [],
   "source": [
    "path = '/blue/gkalamangalam/jmark.ettinger/eegCompress/processedData/origAndPredictedLossy.npz'\n",
    "dataToSaveList = [data[:,0:failureIndex], predicted[:, 0:failureIndex]]\n",
    "np.savez_compressed(path, *dataToSaveList)"
   ]
  },
  {
   "cell_type": "markdown",
   "metadata": {
    "id": "jaK1mJneWd4k"
   },
   "source": [
    "# Scratch"
   ]
  },
  {
   "cell_type": "code",
   "execution_count": null,
   "metadata": {},
   "outputs": [],
   "source": [
    "# PREPARE UNIT NORM RESIDUALS\n",
    "\n",
    "residualNormalized = np.zeros((nSample-1, nChannel))\n",
    "norms = np.linalg.norm(residual, axis=1)\n",
    "for i in range(nSample-1):\n",
    "    for j in range(nChannel):\n",
    "        residualNormalized[i,j] = residual[i,j]/norms[i] \n",
    "print(residualNormalized.shape)"
   ]
  },
  {
   "cell_type": "code",
   "execution_count": null,
   "metadata": {},
   "outputs": [],
   "source": [
    "%%time\n",
    "\n",
    "predicted = np.zeros_like(data)\n",
    "predicted[:,1] = data[:,1]\n",
    "\n",
    "stackedSamples, _ = residualStack.shape\n",
    "counter = 1\n",
    "for i in range(0, stackedSamples):\n",
    "    if i % 100000 == 0:\n",
    "        print(i)\n",
    "        \n",
    "    thisToPredict = data[:, counter:counter + nStack].flatten(order='F')\n",
    "    thisPredictor = np.repeat(predicted[:, counter - 1], nStack)\n",
    "    thisResidual = thisToPredict - thisPredictor\n",
    "    index = int(kmeans.predict(np.expand_dims(thisResidual, 0))[0])\n",
    "    thisCentroid = centroids[index,:]\n",
    "    for j in range(nStack):\n",
    "        predicted[:, counter] = data[:, counter - 1 - j] + thisCentroid[j * nChannel: (j+1) * nChannel].transpose()\n",
    "        counter += 1\n",
    "        "
   ]
  },
  {
   "cell_type": "code",
   "execution_count": null,
   "metadata": {},
   "outputs": [],
   "source": [
    "%%time\n",
    "\n",
    "predicted = np.zeros_like(data)\n",
    "predicted[:,1] = data[:,1]\n",
    "\n",
    "stackedRows, stackedCols = residualStack.shape\n",
    "counter = 1\n",
    "for i in range(0, stackedRows):\n",
    "    if i % 100000 == 0:\n",
    "        print(i)\n",
    "        \n",
    "    #thisPredictor = np.repeat(data[:,i].transpose(), nStack)\n",
    "    index = labels[i]\n",
    "    thisCentroid = centroids[index,:]\n",
    "    for j in range(nStack):\n",
    "        predicted[:, counter] = data[:, counter - 1 - j] + thisCentroid[j * nChannel: (j+1) * nChannel].transpose()\n",
    "        counter += 1\n",
    "        "
   ]
  },
  {
   "cell_type": "code",
   "execution_count": null,
   "metadata": {},
   "outputs": [],
   "source": [
    "# RECONSTRUCT USING NORM\n",
    "%%time\n",
    "numSampleInput = 1\n",
    "numSampleOutput = 1\n",
    "failureIndex,_ = kmeansInputData\n",
    "\n",
    "predicted = np.zeros_like(kmeansInputData)\n",
    "predicted[:,0:numSampleInput] = data[:,0:numSampleInput]\n",
    "\n",
    "dotProduct = np.zeros(nSample - 1)\n",
    "\n",
    "for i in range(numSampleInput, nSample):\n",
    "    if i % 100000 == 0:\n",
    "        print(i)\n",
    "        \n",
    "    thisOutput = predicted[:,i-1]\n",
    "    thisResidual = data[:,i] - thisOutput\n",
    "    thisResidualUnit = thisResidual/np.linalg.norm(thisResidual) \n",
    "    index = int(kmeans.predict(np.expand_dims(thisResidualUnit, 0))[0])\n",
    "    thisCentroid = centroids[index,:]\n",
    "    \n",
    "    thisDotProduct = np.dot(thisResidual, thisCentroid)\n",
    "    dotProduct[i-1] = thisDotProduct\n",
    "    predicted[:,i] = thisOutput + (thisDotProduct * thisCentroid)\n",
    "    \n",
    "    if np.any(np.isnan(predicted[:,i])):\n",
    "        failureIndex = i\n",
    "        print(\"nan: \" + str(failureIndex))\n",
    "    "
   ]
  },
  {
   "cell_type": "code",
   "execution_count": null,
   "metadata": {},
   "outputs": [],
   "source": [
    "%%time\n",
    "numSampleInput = 1\n",
    "numSampleOutput = 1\n",
    "nChannel,failureIndex = data.shape\n",
    "\n",
    "predicted = np.zeros_like(data)\n",
    "predicted[:,0:numSampleInput] = data[:,0:numSampleInput]\n",
    "\n",
    "for i in range(numSampleInput, int(nSample/numSampleOutput)):\n",
    "    if i % 100000 == 0:\n",
    "        print(i)\n",
    "        \n",
    "    thisOutput = predicted[:,i-1: i-1 + numSampleOutput]\n",
    "    thisResidual = data[:,i:i + numSampleOutput] - thisOutput\n",
    "    thisResidualReshape = np.reshape(thisResidual,(nChannel * numSampleInput,),order='F')\n",
    "    index = int(kmeans.predict(np.expand_dims(thisResidualReshape, 0))[0])\n",
    "    predicted[:,i:i + numSampleOutput] = thisOutput + np.reshape(centroids[index,:], (nChannel,numSampleOutput))\n",
    "    \n",
    "    if np.any(np.isnan(predicted[:,i])):\n",
    "        failureIndex = i\n",
    "        print(\"nan: \" + str(failureIndex))\n",
    "        break\n",
    "    "
   ]
  },
  {
   "cell_type": "code",
   "execution_count": null,
   "metadata": {},
   "outputs": [],
   "source": [
    "%%time\n",
    "numSampleInput = 1\n",
    "\n",
    "predicted = np.zeros_like(data)\n",
    "predicted[:,0:numSampleInput] = data[:,0:numSampleInput]\n",
    "\n",
    "for i in range(0, nSample - 3, 2):\n",
    "    if i % 100000 == 0:\n",
    "        print(i)\n",
    "        \n",
    "    thisOriginal = np.concatenate((data[:,i], data[:,i]), axis = 0)\n",
    "    thisToPredict = np.concatenate((data[:,i + 1], data[:,i + 2]), axis = 0)\n",
    "    thisResidual = -thisOriginal + thisToPredict\n",
    "    #thisResidualReshape = np.reshape(thisResidual,(nChannel * numSampleInput,),order='F')\n",
    "    index = int(kmeans.predict(np.expand_dims(thisResidual, 0))[0])\n",
    "    thisCentroid = centroids[index,:]\n",
    "    predicted[:,i + 1] = data[:,i] + thisCentroid[0:nChannel].transpose()\n",
    "    predicted[:,i + 2] = data[:,i] + thisCentroid[nChannel:].transpose()\n",
    "    \n",
    "    if np.any(np.isnan(predicted[:,i])):\n",
    "        failureIndex = i\n",
    "        print(\"nan: \" + str(failureIndex))\n",
    "        break\n",
    "    "
   ]
  }
 ],
 "metadata": {
  "accelerator": "GPU",
  "colab": {
   "gpuType": "T4",
   "provenance": []
  },
  "kernelspec": {
   "display_name": "myRapids",
   "language": "python",
   "name": "myrapids"
  },
  "language_info": {
   "codemirror_mode": {
    "name": "ipython",
    "version": 3
   },
   "file_extension": ".py",
   "mimetype": "text/x-python",
   "name": "python",
   "nbconvert_exporter": "python",
   "pygments_lexer": "ipython3",
   "version": "3.11.9"
  }
 },
 "nbformat": 4,
 "nbformat_minor": 4
}
