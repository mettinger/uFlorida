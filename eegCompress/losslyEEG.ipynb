{
  "nbformat": 4,
  "nbformat_minor": 0,
  "metadata": {
    "colab": {
      "provenance": [],
      "gpuType": "T4"
    },
    "kernelspec": {
      "name": "python3",
      "display_name": "Python 3"
    },
    "language_info": {
      "name": "python"
    },
    "accelerator": "GPU"
  },
  "cells": [
    {
      "cell_type": "code",
      "source": [
        "!pip install faiss-cpu"
      ],
      "metadata": {
        "colab": {
          "base_uri": "https://localhost:8080/"
        },
        "id": "xI4h4XvdToU4",
        "outputId": "fdbb0ba3-b761-4933-9231-af7bcb86f41d"
      },
      "execution_count": null,
      "outputs": [
        {
          "output_type": "stream",
          "name": "stdout",
          "text": [
            "Collecting faiss-cpu\n",
            "  Downloading faiss_cpu-1.10.0-cp311-cp311-manylinux_2_28_x86_64.whl.metadata (4.4 kB)\n",
            "Requirement already satisfied: numpy<3.0,>=1.25.0 in /usr/local/lib/python3.11/dist-packages (from faiss-cpu) (2.0.2)\n",
            "Requirement already satisfied: packaging in /usr/local/lib/python3.11/dist-packages (from faiss-cpu) (24.2)\n",
            "Downloading faiss_cpu-1.10.0-cp311-cp311-manylinux_2_28_x86_64.whl (30.7 MB)\n",
            "\u001b[2K   \u001b[90m━━━━━━━━━━━━━━━━━━━━━━━━━━━━━━━━━━━━━━━━\u001b[0m \u001b[32m30.7/30.7 MB\u001b[0m \u001b[31m67.7 MB/s\u001b[0m eta \u001b[36m0:00:00\u001b[0m\n",
            "\u001b[?25hInstalling collected packages: faiss-cpu\n",
            "Successfully installed faiss-cpu-1.10.0\n"
          ]
        }
      ]
    },
    {
      "cell_type": "code",
      "source": [
        "from google.colab import drive\n",
        "drive.mount('/content/drive')"
      ],
      "metadata": {
        "colab": {
          "base_uri": "https://localhost:8080/"
        },
        "id": "45kRUP8DvKv_",
        "outputId": "05c44dbe-a16b-4e33-fa5b-7c9bd8ab8cb1"
      },
      "execution_count": null,
      "outputs": [
        {
          "output_type": "stream",
          "name": "stdout",
          "text": [
            "Mounted at /content/drive\n"
          ]
        }
      ]
    },
    {
      "cell_type": "code",
      "execution_count": null,
      "metadata": {
        "id": "O7KOU3RctXpJ"
      },
      "outputs": [],
      "source": [
        "import numpy as np\n",
        "import torch\n",
        "\n",
        "if torch.cuda.is_available():\n",
        "  import cuml\n",
        "  from cuml import KMeans\n",
        "  from cuml.cluster import KMeans\n",
        "  import cudf\n",
        "\n",
        "import faiss\n",
        "import sys\n",
        "sys.path.append('//content/drive/MyDrive/Colab Notebooks/')\n",
        "from eegUtils import *\n",
        "\n",
        "import pandas as pd"
      ]
    },
    {
      "cell_type": "code",
      "source": [
        "processedData = np.load('/content/drive/MyDrive/NeuroResearch/Data/eegCompress/processedData/origAndPredictedSVD001_block7.npz')\n",
        "data = processedData['arr_0']\n",
        "predicted = processedData['arr_1']\n",
        "residual = predicted - data\n",
        "nChannel, nSample = data.shape\n",
        "\n",
        "dataTensor = torch.tensor(data)\n",
        "if torch.cuda.is_available():\n",
        "  dataTensor = dataTensor.to('cuda')\n",
        "  print(\"Data has been moved to GPU\")\n",
        "else:\n",
        "  print(\"Data is on CPU\")\n",
        "print(data.shape)\n",
        "\n",
        "residual = residual.transpose()"
      ],
      "metadata": {
        "colab": {
          "base_uri": "https://localhost:8080/"
        },
        "id": "JNQ1lHLY3Ij4",
        "outputId": "6ab2c55f-12de-4df9-ef9c-eb99a04cb0a4"
      },
      "execution_count": null,
      "outputs": [
        {
          "output_type": "stream",
          "name": "stdout",
          "text": [
            "Data has been moved to GPU\n",
            "(19, 1100367)\n"
          ]
        }
      ]
    },
    {
      "cell_type": "markdown",
      "source": [
        "# FAISS KMeans Training"
      ],
      "metadata": {
        "id": "4wQRsLMnSRuf"
      }
    },
    {
      "cell_type": "code",
      "source": [
        "ncentroids = 4096\n",
        "niter = 300\n",
        "verbose = True\n",
        "d = residual.shape[1]\n",
        "kmeans = faiss.Kmeans(d, ncentroids, niter=niter, verbose=verbose, gpu=True)\n",
        "kmeans.train(residual)\n",
        "centroids = kmeans.centroids\n",
        "centroids.shape"
      ],
      "metadata": {
        "colab": {
          "base_uri": "https://localhost:8080/"
        },
        "id": "nKSHYivXWWVP",
        "outputId": "7094ee1c-f291-4cef-e499-73d415f6e992"
      },
      "execution_count": null,
      "outputs": [
        {
          "output_type": "execute_result",
          "data": {
            "text/plain": [
              "(4096, 19)"
            ]
          },
          "metadata": {},
          "execution_count": 11
        }
      ]
    },
    {
      "cell_type": "markdown",
      "source": [
        "# CUML Kmeans Training"
      ],
      "metadata": {
        "id": "2n9KybdNxEwk"
      }
    },
    {
      "cell_type": "code",
      "source": [
        "n_clusters = 256\n",
        "kmeans = KMeans(n_clusters=n_clusters, n_init=\"auto\", verbose=True)\n",
        "kmeans.fit(residual.transpose())\n",
        "centroids = kmeans.cluster_centers_\n",
        "#kmeans.labels_"
      ],
      "metadata": {
        "colab": {
          "base_uri": "https://localhost:8080/",
          "height": 1000
        },
        "id": "c8xR-z_pxB6j",
        "outputId": "c37b4d79-96dc-4902-f5c4-36c579ef8bec"
      },
      "execution_count": null,
      "outputs": [
        {
          "output_type": "error",
          "ename": "RuntimeError",
          "evalue": "CUDA error encountered at: file=/pyenv/versions/3.12.9/lib/python3.12/site-packages/libraft/include/raft/util/cudart_utils.hpp line=148: call='cudaMemcpyAsync(dst, src, len * sizeof(Type), cudaMemcpyDefault, stream)', Reason=cudaErrorIllegalAddress:an illegal memory access was encountered\nObtained 57 stack frames\n#1 in /usr/local/lib/python3.11/dist-packages/libcuvs/lib64/libcuvs.so: raft::cuda_error::cuda_error(std::__cxx11::basic_string<char, std::char_traits<char>, std::allocator<char> > const&) +0xbd [0x7c13e8c64dcd]\n#2 in /usr/local/lib/python3.11/dist-packages/libcuvs/lib64/libcuvs.so: void raft::copy<double>(double*, double const*, unsigned long, rmm::cuda_stream_view) +0x1a0 [0x7c13e8e09fd0]\n#3 in /usr/local/lib/python3.11/dist-packages/libcuvs/lib64/libcuvs.so: void cuvs::cluster::kmeans::detail::initScalableKMeansPlusPlus<double, int>(raft::resources const&, cuvs::cluster::kmeans::params const&, std::experimental::mdspan<double const, std::experimental::extents<int, 18446744073709551615ul, 18446744073709551615ul>, std::experimental::layout_right, raft::host_device_accessor<std::experimental::default_accessor<double const>, (raft::memory_type)2> >, std::experimental::mdspan<double, std::experimental::extents<int, 18446744073709551615ul, 18446744073709551615ul>, std::experimental::layout_right, raft::host_device_accessor<std::experimental::default_accessor<double>, (raft::memory_type)2> >, rmm::device_uvector<char>&) +0x17e9 [0x7c13e8f05799]\n#4 in /usr/local/lib/python3.11/dist-packages/libcuvs/lib64/libcuvs.so(+0x9fe409) [0x7c13e9093409]\n#5 in /usr/local/lib/python3.11/dist-packages/libcuvs/lib64/libcuvs.so: cuvs::cluster::kmeans::fit_predict(raft::resources const&, cuvs::cluster::kmeans::params const&, std::experimental::mdspan<double const, std::experimental::extents<int, 18446744073709551615ul, 18446744073709551615ul>, std::experimental::layout_right, raft::host_device_accessor<std::experimental::default_accessor<double const>, (raft::memory_type)2> >, std::optional<std::experimental::mdspan<double const, std::experimental::extents<int, 18446744073709551615ul>, std::experimental::layout_right, raft::host_device_accessor<std::experimental::default_accessor<double const>, (raft::memory_type)2> > >, std::optional<std::experimental::mdspan<double, std::experimental::extents<int, 18446744073709551615ul, 18446744073709551615ul>, std::experimental::layout_right, raft::host_device_accessor<std::experimental::default_accessor<double>, (raft::memory_type)2> > >, std::experimental::mdspan<int, std::experimental::extents<int, 18446744073709551615ul>, std::experimental::layout_right, raft::host_device_accessor<std::experimental::default_accessor<int>, (raft::memory_type)2> >, std::experimental::mdspan<double, std::experimental::extents<unsigned int, 1ul>, std::experimental::layout_right, raft::host_device_accessor<std::experimental::default_accessor<double>, (raft::memory_type)0> >, std::experimental::mdspan<int, std::experimental::extents<unsigned int, 1ul>, std::experimental::layout_right, raft::host_device_accessor<std::experimental::default_accessor<int>, (raft::memory_type)0> >) +0x1a4 [0x7c13e90942c4]\n#6 in /usr/local/lib/python3.11/dist-packages/libcuml/lib64/libcuml++.so: ML::kmeans::fit_predict(raft::handle_t const&, cuvs::cluster::kmeans::params const&, double const*, int, int, double const*, double*, int*, double&, int&) +0x96 [0x7c13accacdc6]\n#7 in /usr/local/lib/python3.11/dist-packages/cuml/cluster/kmeans.cpython-311-x86_64-linux-gnu.so(+0x1ce89) [0x7c135023ce89]\n#8 in /usr/local/lib/python3.11/dist-packages/cuml/internals/base.cpython-311-x86_64-linux-gnu.so(+0x1271e) [0x7c13502ac71e]\n#9 in /usr/local/lib/python3.11/dist-packages/cuml/internals/base.cpython-311-x86_64-linux-gnu.so(+0x38281) [0x7c13502d2281]\n#10 in /usr/bin/python3: _PyEval_EvalFrameDefault +0x4a8f [0x541bcf]\n#11 in /usr/bin/python3() [0x585180]\n#12 in /usr/bin/python3: _PyEval_EvalFrameDefault +0x4a8f [0x541bcf]\n#13 in /usr/bin/python3: _PyFunction_Vectorcall +0x173 [0x5661a3]\n#14 in /usr/bin/python3: _PyEval_EvalFrameDefault +0x4a8f [0x541bcf]\n#15 in /usr/bin/python3() [0x6135e4]\n#16 in /usr/bin/python3: PyEval_EvalCode +0x97 [0x612c47]\n#17 in /usr/bin/python3() [0x62ca33]\n#18 in /usr/bin/python3: _PyEval_EvalFrameDefault +0x390f [0x540a4f]\n#19 in /usr/bin/python3() [0x6284b0]\n#20 in /usr/bin/python3: _PyEval_EvalFrameDefault +0x3485 [0x5405c5]\n#21 in /usr/bin/python3() [0x6284b0]\n#22 in /usr/bin/python3: _PyEval_EvalFrameDefault +0x3485 [0x5405c5]\n#23 in /usr/bin/python3() [0x6284b0]\n#24 in /usr/bin/python3() [0x62aaec]\n#25 in /usr/bin/python3: _PyEval_EvalFrameDefault +0x3a9d [0x540bdd]\n#26 in /usr/bin/python3() [0x585a87]\n#27 in /usr/bin/python3() [0x58526e]\n#28 in /usr/bin/python3: PyObject_Call +0xf4 [0x570704]\n#29 in /usr/bin/python3: _PyEval_EvalFrameDefault +0x4a8f [0x541bcf]\n#30 in /usr/bin/python3() [0x6284b0]\n#31 in /usr/bin/python3: _PyEval_EvalFrameDefault +0x3485 [0x5405c5]\n#32 in /usr/bin/python3() [0x6284b0]\n#33 in /usr/bin/python3: _PyEval_EvalFrameDefault +0x3485 [0x5405c5]\n#34 in /usr/bin/python3() [0x6284b0]\n#35 in /usr/bin/python3: _PyEval_EvalFrameDefault +0x3485 [0x5405c5]\n#36 in /usr/bin/python3() [0x6284b0]\n#37 in /usr/bin/python3: _PyEval_EvalFrameDefault +0x3485 [0x5405c5]\n#38 in /usr/bin/python3() [0x6284b0]\n#39 in /usr/lib/python3.11/lib-dynload/_asyncio.cpython-311-x86_64-linux-gnu.so(+0x745f) [0x7c155e21a45f]\n#40 in /usr/bin/python3() [0x553a1f]\n#41 in /usr/bin/python3() [0x4d0bc0]\n#42 in /usr/bin/python3() [0x4e94f3]\n#43 in /usr/bin/python3() [0x54b25b]\n#44 in /usr/bin/python3: _PyEval_EvalFrameDefault +0x9129 [0x546269]\n#45 in /usr/bin/python3() [0x6135e4]\n#46 in /usr/bin/python3: PyEval_EvalCode +0x97 [0x612c47]\n#47 in /usr/bin/python3() [0x62ca33]\n#48 in /usr/bin/python3() [0x54b25b]\n#49 in /usr/bin/python3: PyObject_Vectorcall +0x35 [0x54b145]\n#50 in /usr/bin/python3: _PyEval_EvalFrameDefault +0x6bf [0x53d7ff]\n#51 in /usr/bin/python3: _PyFunction_Vectorcall +0x173 [0x5661a3]\n#52 in /usr/bin/python3() [0x63e860]\n#53 in /usr/bin/python3: Py_RunMain +0x13c [0x63e1bc]\n#54 in /usr/bin/python3: Py_BytesMain +0x2d [0x603f2d]\n#55 in /lib/x86_64-linux-gnu/libc.so.6(+0x29d90) [0x7c155e957d90]\n#56 in /lib/x86_64-linux-gnu/libc.so.6: __libc_start_main +0x80 [0x7c155e957e40]\n#57 in /usr/bin/python3: _start +0x25 [0x603db5]\n",
          "traceback": [
            "\u001b[0;31m---------------------------------------------------------------------------\u001b[0m",
            "\u001b[0;31mRuntimeError\u001b[0m                              Traceback (most recent call last)",
            "\u001b[0;32m<ipython-input-10-0894c0a3113c>\u001b[0m in \u001b[0;36m<cell line: 0>\u001b[0;34m()\u001b[0m\n\u001b[1;32m      1\u001b[0m \u001b[0mn_clusters\u001b[0m \u001b[0;34m=\u001b[0m \u001b[0;36m256\u001b[0m\u001b[0;34m\u001b[0m\u001b[0;34m\u001b[0m\u001b[0m\n\u001b[1;32m      2\u001b[0m \u001b[0mkmeans\u001b[0m \u001b[0;34m=\u001b[0m \u001b[0mKMeans\u001b[0m\u001b[0;34m(\u001b[0m\u001b[0mn_clusters\u001b[0m\u001b[0;34m=\u001b[0m\u001b[0mn_clusters\u001b[0m\u001b[0;34m,\u001b[0m \u001b[0mn_init\u001b[0m\u001b[0;34m=\u001b[0m\u001b[0;34m\"auto\"\u001b[0m\u001b[0;34m,\u001b[0m \u001b[0mverbose\u001b[0m\u001b[0;34m=\u001b[0m\u001b[0;32mTrue\u001b[0m\u001b[0;34m)\u001b[0m\u001b[0;34m\u001b[0m\u001b[0;34m\u001b[0m\u001b[0m\n\u001b[0;32m----> 3\u001b[0;31m \u001b[0mkmeans\u001b[0m\u001b[0;34m.\u001b[0m\u001b[0mfit\u001b[0m\u001b[0;34m(\u001b[0m\u001b[0mresidual\u001b[0m\u001b[0;34m.\u001b[0m\u001b[0mtranspose\u001b[0m\u001b[0;34m(\u001b[0m\u001b[0;34m)\u001b[0m\u001b[0;34m)\u001b[0m\u001b[0;34m\u001b[0m\u001b[0;34m\u001b[0m\u001b[0m\n\u001b[0m\u001b[1;32m      4\u001b[0m \u001b[0mcentroids\u001b[0m \u001b[0;34m=\u001b[0m \u001b[0mkmeans\u001b[0m\u001b[0;34m.\u001b[0m\u001b[0mcluster_centers_\u001b[0m\u001b[0;34m\u001b[0m\u001b[0;34m\u001b[0m\u001b[0m\n\u001b[1;32m      5\u001b[0m \u001b[0;31m#kmeans.labels_\u001b[0m\u001b[0;34m\u001b[0m\u001b[0;34m\u001b[0m\u001b[0m\n",
            "\u001b[0;32m/usr/local/lib/python3.11/dist-packages/cuml/internals/api_decorators.py\u001b[0m in \u001b[0;36mwrapper\u001b[0;34m(*args, **kwargs)\u001b[0m\n\u001b[1;32m    191\u001b[0m \u001b[0;34m\u001b[0m\u001b[0m\n\u001b[1;32m    192\u001b[0m                     \u001b[0;32mif\u001b[0m \u001b[0mprocess_return\u001b[0m\u001b[0;34m:\u001b[0m\u001b[0;34m\u001b[0m\u001b[0;34m\u001b[0m\u001b[0m\n\u001b[0;32m--> 193\u001b[0;31m                         \u001b[0mret\u001b[0m \u001b[0;34m=\u001b[0m \u001b[0mfunc\u001b[0m\u001b[0;34m(\u001b[0m\u001b[0;34m*\u001b[0m\u001b[0margs\u001b[0m\u001b[0;34m,\u001b[0m \u001b[0;34m**\u001b[0m\u001b[0mkwargs\u001b[0m\u001b[0;34m)\u001b[0m\u001b[0;34m\u001b[0m\u001b[0;34m\u001b[0m\u001b[0m\n\u001b[0m\u001b[1;32m    194\u001b[0m                     \u001b[0;32melse\u001b[0m\u001b[0;34m:\u001b[0m\u001b[0;34m\u001b[0m\u001b[0;34m\u001b[0m\u001b[0m\n\u001b[1;32m    195\u001b[0m                         \u001b[0;32mreturn\u001b[0m \u001b[0mfunc\u001b[0m\u001b[0;34m(\u001b[0m\u001b[0;34m*\u001b[0m\u001b[0margs\u001b[0m\u001b[0;34m,\u001b[0m \u001b[0;34m**\u001b[0m\u001b[0mkwargs\u001b[0m\u001b[0;34m)\u001b[0m\u001b[0;34m\u001b[0m\u001b[0;34m\u001b[0m\u001b[0m\n",
            "\u001b[0;32m/usr/local/lib/python3.11/dist-packages/cuml/internals/api_decorators.py\u001b[0m in \u001b[0;36mdispatch\u001b[0;34m(self, *args, **kwargs)\u001b[0m\n\u001b[1;32m    414\u001b[0m         \u001b[0;32mif\u001b[0m \u001b[0mhasattr\u001b[0m\u001b[0;34m(\u001b[0m\u001b[0mself\u001b[0m\u001b[0;34m,\u001b[0m \u001b[0;34m\"dispatch_func\"\u001b[0m\u001b[0;34m)\u001b[0m\u001b[0;34m:\u001b[0m\u001b[0;34m\u001b[0m\u001b[0;34m\u001b[0m\u001b[0m\n\u001b[1;32m    415\u001b[0m             \u001b[0mfunc_name\u001b[0m \u001b[0;34m=\u001b[0m \u001b[0mgpu_func\u001b[0m\u001b[0;34m.\u001b[0m\u001b[0m__name__\u001b[0m\u001b[0;34m\u001b[0m\u001b[0;34m\u001b[0m\u001b[0m\n\u001b[0;32m--> 416\u001b[0;31m             \u001b[0;32mreturn\u001b[0m \u001b[0mself\u001b[0m\u001b[0;34m.\u001b[0m\u001b[0mdispatch_func\u001b[0m\u001b[0;34m(\u001b[0m\u001b[0mfunc_name\u001b[0m\u001b[0;34m,\u001b[0m \u001b[0mgpu_func\u001b[0m\u001b[0;34m,\u001b[0m \u001b[0;34m*\u001b[0m\u001b[0margs\u001b[0m\u001b[0;34m,\u001b[0m \u001b[0;34m**\u001b[0m\u001b[0mkwargs\u001b[0m\u001b[0;34m)\u001b[0m\u001b[0;34m\u001b[0m\u001b[0;34m\u001b[0m\u001b[0m\n\u001b[0m\u001b[1;32m    417\u001b[0m         \u001b[0;32melse\u001b[0m\u001b[0;34m:\u001b[0m\u001b[0;34m\u001b[0m\u001b[0;34m\u001b[0m\u001b[0m\n\u001b[1;32m    418\u001b[0m             \u001b[0;32mreturn\u001b[0m \u001b[0mgpu_func\u001b[0m\u001b[0;34m(\u001b[0m\u001b[0mself\u001b[0m\u001b[0;34m,\u001b[0m \u001b[0;34m*\u001b[0m\u001b[0margs\u001b[0m\u001b[0;34m,\u001b[0m \u001b[0;34m**\u001b[0m\u001b[0mkwargs\u001b[0m\u001b[0;34m)\u001b[0m\u001b[0;34m\u001b[0m\u001b[0;34m\u001b[0m\u001b[0m\n",
            "\u001b[0;32m/usr/local/lib/python3.11/dist-packages/cuml/internals/api_decorators.py\u001b[0m in \u001b[0;36mwrapper\u001b[0;34m(*args, **kwargs)\u001b[0m\n\u001b[1;32m    193\u001b[0m                         \u001b[0mret\u001b[0m \u001b[0;34m=\u001b[0m \u001b[0mfunc\u001b[0m\u001b[0;34m(\u001b[0m\u001b[0;34m*\u001b[0m\u001b[0margs\u001b[0m\u001b[0;34m,\u001b[0m \u001b[0;34m**\u001b[0m\u001b[0mkwargs\u001b[0m\u001b[0;34m)\u001b[0m\u001b[0;34m\u001b[0m\u001b[0;34m\u001b[0m\u001b[0m\n\u001b[1;32m    194\u001b[0m                     \u001b[0;32melse\u001b[0m\u001b[0;34m:\u001b[0m\u001b[0;34m\u001b[0m\u001b[0;34m\u001b[0m\u001b[0m\n\u001b[0;32m--> 195\u001b[0;31m                         \u001b[0;32mreturn\u001b[0m \u001b[0mfunc\u001b[0m\u001b[0;34m(\u001b[0m\u001b[0;34m*\u001b[0m\u001b[0margs\u001b[0m\u001b[0;34m,\u001b[0m \u001b[0;34m**\u001b[0m\u001b[0mkwargs\u001b[0m\u001b[0;34m)\u001b[0m\u001b[0;34m\u001b[0m\u001b[0;34m\u001b[0m\u001b[0m\n\u001b[0m\u001b[1;32m    196\u001b[0m \u001b[0;34m\u001b[0m\u001b[0m\n\u001b[1;32m    197\u001b[0m                 \u001b[0;32mreturn\u001b[0m \u001b[0mcm\u001b[0m\u001b[0;34m.\u001b[0m\u001b[0mprocess_return\u001b[0m\u001b[0;34m(\u001b[0m\u001b[0mret\u001b[0m\u001b[0;34m)\u001b[0m\u001b[0;34m\u001b[0m\u001b[0;34m\u001b[0m\u001b[0m\n",
            "\u001b[0;32mbase.pyx\u001b[0m in \u001b[0;36mcuml.internals.base.UniversalBase.dispatch_func\u001b[0;34m()\u001b[0m\n",
            "\u001b[0;32mkmeans.pyx\u001b[0m in \u001b[0;36mcuml.cluster.kmeans.KMeans.fit\u001b[0;34m()\u001b[0m\n",
            "\u001b[0;31mRuntimeError\u001b[0m: CUDA error encountered at: file=/pyenv/versions/3.12.9/lib/python3.12/site-packages/libraft/include/raft/util/cudart_utils.hpp line=148: call='cudaMemcpyAsync(dst, src, len * sizeof(Type), cudaMemcpyDefault, stream)', Reason=cudaErrorIllegalAddress:an illegal memory access was encountered\nObtained 57 stack frames\n#1 in /usr/local/lib/python3.11/dist-packages/libcuvs/lib64/libcuvs.so: raft::cuda_error::cuda_error(std::__cxx11::basic_string<char, std::char_traits<char>, std::allocator<char> > const&) +0xbd [0x7c13e8c64dcd]\n#2 in /usr/local/lib/python3.11/dist-packages/libcuvs/lib64/libcuvs.so: void raft::copy<double>(double*, double const*, unsigned long, rmm::cuda_stream_view) +0x1a0 [0x7c13e8e09fd0]\n#3 in /usr/local/lib/python3.11/dist-packages/libcuvs/lib64/libcuvs.so: void cuvs::cluster::kmeans::detail::initScalableKMeansPlusPlus<double, int>(raft::resources const&, cuvs::cluster::kmeans::params const&, std::experimental::mdspan<double const, std::experimental::extents<int, 18446744073709551615ul, 18446744073709551615ul>, std::experimental::layout_right, raft::host_device_accessor<std::experimental::default_accessor<double const>, (raft::memory_type)2> >, std::experimental::mdspan<double, std::experimental::extents<int, 18446744073709551615ul, 18446744073709551615ul>, std::experimental::layout_right, raft::host_device_accessor<std::experimental::default_accessor<double>, (raft::memory_type)2> >, rmm::device_uvector<char>&) +0x17e9 [0x7c13e8f05799]\n#4 in /usr/local/lib/python3.11/dist-packages/libcuvs/lib64/libcuvs.so(+0x9fe409) [0x7c13e9093409]\n#5 in /usr/local/lib/python3.11/dist-packages/libcuvs/lib64/libcuvs.so: cuvs::cluster::kmeans::fit_predict(raft::resources const&, cuvs::cluster::kmeans::params const&, std::experimental::mdspan<double const, std::experimental::extents<int, 18446744073709551615ul, 18446744073709551615ul>, std::experimental::layout_right, raft::host_device_accessor<std::experimental::default_accessor<double const>, (raft::memory_type)2> >, std::optional<std::experimental::mdspan<double const, std::experimental::extents<int, 18446744073709551615ul>, std::experimental::layout_right, raft::host_device_accessor<std::experimental::default_accessor<double const>, (raft::memory_type)2> > >, std::optional<std::experimental::mdspan<double, std::experimental::extents<int, 18446744073709551615ul, 18446744073709551615ul>, std::experimental::layout_right, raft::host_device_accessor<std::experimental::default_accessor<double>, (raft::memory_type)2> > >, std::experimental::mdspan<int, std::experimental::extents<int, 18446744073709551615ul>, std::experimental::layout_right, raft::host_device_accessor<std::experimental::default_accessor<int>, (raft::memory_type)2> >, std::experimental::mdspan<double, std::experimental::extents<unsigned int, 1ul>, std::experimental::layout_right, raft::host_device_accessor<std::experimental::default_accessor<double>, (raft::memory_type)0> >, std::experimental::mdspan<int, std::experimental::extents<unsigned int, 1ul>, std::experimental::layout_right, raft::host_device_access...\n#6 in /usr/local/lib/python3.11/dist-packages/libcuml/lib64/libcuml++.so: ML::kmeans::fit_predict(raft::handle_t const&, cuvs::cluster::kmeans::params const&, double const*, int, int, double const*, double*, int*, double&, int&) +0x96 [0x7c13accacdc6]\n#7 in /usr/local/lib/python3.11/dist-packages/cuml/cluster/kmeans.cpython-311-x86_64-linux-gnu.so(+0x1ce89) [0x7c135023ce89]\n#8 in /usr/local/lib/python3.11/dist-packages/cuml/internals/base.cpython-311-x86_64-linux-gnu.so(+0x1271e) [0x7c13502ac71e]\n#9 in /usr/local/lib/python3.11/dist-packages/cuml/internals/base.cpython-311-x86_64-linux-gnu.so(+0x38281) [0x7c13502d2281]\n#10 in /usr/bin/python3: _PyEval_EvalFrameDefault +0x4a8f [0x541bcf]\n#11 in /usr/bin/python3() [0x585180]\n#12 in /usr/bin/python3: _PyEval_EvalFrameDefault +0x4a8f [0x541bcf]\n#13 in /usr/bin/python3: _PyFunction_Vectorcall +0x173 [0x5661a3]\n#14 in /usr/bin/python3: _PyEval_EvalFrameDefault +0x4a8f [0x541bcf]\n#15 in /usr/bin/python3() [0x6135e4]\n#16 in /usr/bin/python3: PyEval_EvalCode +0x97 [0x612c47]\n#17 in /usr/bin/python3() [0x62ca33]\n#18 in /usr/bin/python3: _PyEval_EvalFrameDefault +0x390f [0x540a4f]\n#19 in /usr/bin/python3() [0x6284b0]\n#20 in /usr/bin/python3: _PyEval_EvalFrameDefault +0x3485 [0x5405c5]\n#21 in /usr/bin/python3() [0x6284b0]\n#22 in /usr/bin/python3: _PyEval_EvalFrameDefault +0x3485 [0x5405c5]\n#23 in /usr/bin/python3() [0x6284b0]\n#24 in /usr/bin/python3() [0x62aaec]\n#25 in /usr/bin/python3: _PyEval_EvalFrameDefault +0x3a9d [0x540bdd]\n#26 in /usr/bin/python3() [0x585a87]\n#27 in /usr/bin/python3() [0x58526e]\n#28 in /usr/bin/python3: PyObject_Call +0xf4 [0x570704]\n#29 in /usr/bin/python3: _PyEval_EvalFrameDefault +0x4a8f [0x541bcf]\n#30 in /usr/bin/python3() [0x6284b0]\n#31 in /usr/bin/python3: _PyEval_EvalFrameDefault +0x3485 [0x5405c5]\n#32 in /usr/bin/python3() [0x6284b0]\n#33 in /usr/bin/python3: _PyEval_EvalFrameDefault +0x3485 [0x5405c5]\n#34 in /usr/bin/python3() [0x6284b0]\n#35 in /usr/bin/python3: _PyEval_EvalFrameDefault +0x3485 [0x5405c5]\n#36 in /usr/bin/python3() [0x6284b0]\n#37 in /usr/bin/python3: _PyEval_EvalFrameDefault +0x3485 [0x5405c5]\n#38 in /usr/bin/python3() [0x6284b0]\n#39 in /usr/lib/python3.11/lib-dynload/_asyncio.cpython-311-x86_64-linux-gnu.so(+0x745f) [0x7c155e21a45f]\n#40 in /usr/bin/python3() [0x553a1f]\n#41 in /usr/bin/python3() [0x4d0bc0]\n#42 in /usr/bin/python3() [0x4e94f3]\n#43 in /usr/bin/python3() [0x54b25b]\n#44 in /usr/bin/python3: _PyEval_EvalFrameDefault +0x9129 [0x546269]\n#45 in /usr/bin/python3() [0x6135e4]\n#46 in /usr/bin/python3: PyEval_EvalCode +0x97 [0x612c47]\n#47 in /usr/bin/python3() [0x62ca33]\n#48 in /usr/bin/python3() [0x54b25b]\n#49 in /usr/bin/python3: PyObject_Vectorcall +0x35 [0x54b145]\n#50 in /usr/bin/python3: _PyEval_EvalFrameDefault +0x6bf [0x53d7ff]\n#51 in /usr/bin/python3: _PyFunction_Vectorcall +0x173 [0x5661a3]\n#52 in /usr/bin/python3() [0x63e860]\n#53 in /usr/bin/python3: Py_RunMain +0x13c [0x63e1bc]\n#54 in /usr/bin/python3: Py_BytesMain +0x2d [0x603f2d]\n#55 in /lib/x86_64-linux-gnu/libc.so.6(+0x29d90) [0x7c155e957d90]\n#56 in /lib/x86_64-linux-gnu/libc.so.6: __libc_start_main +0x80 [0x7c155e957e40]\n#57 in /usr/bin/python3: _start +0x25 [0x603db5]\n"
          ]
        }
      ]
    },
    {
      "cell_type": "markdown",
      "source": [
        "# Save KMeans model"
      ],
      "metadata": {
        "id": "VxAXnCxXSVAy"
      }
    },
    {
      "cell_type": "code",
      "source": [
        "path = '/content/drive/MyDrive/NeuroResearch/Data/eegCompress/processedData/centroids_001_block7.npy'\n",
        "np.save(path, centroids)"
      ],
      "metadata": {
        "id": "v8ZQrFT2Re_U"
      },
      "execution_count": null,
      "outputs": []
    },
    {
      "cell_type": "markdown",
      "source": [
        "# Load CUML KMeans model"
      ],
      "metadata": {
        "id": "TYJq6wgVSX9O"
      }
    },
    {
      "cell_type": "code",
      "source": [
        "path = '/content/drive/MyDrive/NeuroResearch/Data/eegCompress/processedData/centroids_001_block7.npy'\n",
        "centroids = np.load(path)\n",
        "nCentroids,_ = centroids.shape\n",
        "kmeansCuml = KMeans(n_clusters=nCentroids, init=centroids, n_init=1)"
      ],
      "metadata": {
        "id": "v8PvZ3vNRJyB"
      },
      "execution_count": null,
      "outputs": []
    },
    {
      "cell_type": "code",
      "source": [
        "#kmeans.predict(residual[:,0:2].transpose())   # CUML\n",
        "#D, I = kmeans.index.search(x, 1)             # FAISS"
      ],
      "metadata": {
        "id": "f66AgjvxRzzz"
      },
      "execution_count": null,
      "outputs": []
    },
    {
      "cell_type": "code",
      "source": [
        "# Set parameters\n",
        "modelType = 1\n",
        "loadBool = 1\n",
        "modelPath = '/content/drive/MyDrive/NeuroResearch/Data/eegCompress/models/savedModel_03-28 19:04_-0.034.pt'\n",
        "\n",
        "numSampleInput = 20\n",
        "numSampleOutput = 1\n",
        "\n",
        "if modelType == 0:\n",
        "  inSize = nChannel * numSampleInput\n",
        "  outSize = nChannel * numSampleOutput\n",
        "  hiddenLayerSizeList = [300, 300, 300, 300, 300]\n",
        "  layerSizeList = [inSize] + hiddenLayerSizeList + [outSize]\n",
        "  model = model_0(nChannel, numSampleInput, layerSizeList)\n",
        "  dataset = dataset_0(dataTensor, numSampleInput)\n",
        "  sizeOfModel = modelSize(model)\n",
        "elif modelType == 1:\n",
        "  model = model_1(nChannel, numSampleInput)\n",
        "  dataset = dataset_1(dataTensor, numSampleInput)\n",
        "  sizeOfModel = modelSize(model)\n",
        "\n",
        "loss_function = torch.nn.MSELoss()\n",
        "optimizer = torch.optim.SGD(model.parameters(), lr=0.001, momentum=0.0)\n",
        "\n",
        "\n",
        "if loadBool:\n",
        "  model, optimizer, totalEpoch, loss = loadModel(modelPath, model, optimizer, trainBool=True)\n",
        "  print(\"Model has been loaded: \" + modelPath)\n",
        "else:\n",
        "  totalEpoch = 0\n",
        "\n",
        "print(model)\n",
        "\n",
        "if torch.cuda.is_available():\n",
        "  model.to('cuda')\n",
        "  print(\"Model has been moved to GPU\")\n",
        "else:\n",
        "  print(\"Model is on CPU\")\n"
      ],
      "metadata": {
        "colab": {
          "base_uri": "https://localhost:8080/"
        },
        "id": "OSq1OlXF4S8N",
        "outputId": "3963c5db-902a-4cd0-8392-d82f06f854ce"
      },
      "execution_count": null,
      "outputs": [
        {
          "output_type": "stream",
          "name": "stdout",
          "text": [
            "model size: 0.119MB\n",
            "Model has been loaded: /content/drive/MyDrive/NeuroResearch/Data/eegCompress/models/savedModel_03-28 19:04_-0.034.pt\n",
            "model_1(\n",
            "  (myNet): Sequential(\n",
            "    (0): Conv1d(19, 50, kernel_size=(3,), stride=(1,))\n",
            "    (1): LeakyReLU(negative_slope=0.01)\n",
            "    (2): Conv1d(50, 50, kernel_size=(3,), stride=(1,))\n",
            "    (3): LeakyReLU(negative_slope=0.01)\n",
            "    (4): Conv1d(50, 50, kernel_size=(3,), stride=(1,))\n",
            "    (5): LeakyReLU(negative_slope=0.01)\n",
            "    (6): Flatten(start_dim=1, end_dim=-1)\n",
            "    (7): Linear(in_features=700, out_features=19, bias=True)\n",
            "  )\n",
            ")\n",
            "Model has been moved to GPU\n"
          ]
        }
      ]
    },
    {
      "cell_type": "code",
      "source": [
        "residual.shape"
      ],
      "metadata": {
        "colab": {
          "base_uri": "https://localhost:8080/"
        },
        "id": "UAqQ7aCxP7K5",
        "outputId": "eb05abc6-866d-40a0-a37a-9546693b3427"
      },
      "execution_count": null,
      "outputs": [
        {
          "output_type": "execute_result",
          "data": {
            "text/plain": [
              "(19,)"
            ]
          },
          "metadata": {},
          "execution_count": 23
        }
      ]
    },
    {
      "cell_type": "code",
      "source": [
        "kmeansCuml.predict(np.expand_dims(residual[i,:], 0))"
      ],
      "metadata": {
        "colab": {
          "base_uri": "https://localhost:8080/",
          "height": 141
        },
        "id": "lvr2mV5XOIpX",
        "outputId": "80fb7048-6bfa-46f8-ecce-0b478c7fb6f8"
      },
      "execution_count": null,
      "outputs": [
        {
          "output_type": "error",
          "ename": "IndexError",
          "evalue": "too many indices for array: array is 1-dimensional, but 2 were indexed",
          "traceback": [
            "\u001b[0;31m---------------------------------------------------------------------------\u001b[0m",
            "\u001b[0;31mIndexError\u001b[0m                                Traceback (most recent call last)",
            "\u001b[0;32m<ipython-input-22-23a2f9100aea>\u001b[0m in \u001b[0;36m<cell line: 0>\u001b[0;34m()\u001b[0m\n\u001b[0;32m----> 1\u001b[0;31m \u001b[0mkmeansCuml\u001b[0m\u001b[0;34m.\u001b[0m\u001b[0mpredict\u001b[0m\u001b[0;34m(\u001b[0m\u001b[0mnp\u001b[0m\u001b[0;34m.\u001b[0m\u001b[0mexpand_dims\u001b[0m\u001b[0;34m(\u001b[0m\u001b[0mresidual\u001b[0m\u001b[0;34m[\u001b[0m\u001b[0mi\u001b[0m\u001b[0;34m,\u001b[0m\u001b[0;34m:\u001b[0m\u001b[0;34m]\u001b[0m\u001b[0;34m,\u001b[0m \u001b[0;36m0\u001b[0m\u001b[0;34m)\u001b[0m\u001b[0;34m)\u001b[0m\u001b[0;34m\u001b[0m\u001b[0;34m\u001b[0m\u001b[0m\n\u001b[0m",
            "\u001b[0;31mIndexError\u001b[0m: too many indices for array: array is 1-dimensional, but 2 were indexed"
          ]
        }
      ]
    },
    {
      "cell_type": "code",
      "source": [
        "predicted = np.zeros_like(data)\n",
        "predicted[:,0:numSampleInput] = data[:,0:numSampleInput]\n",
        "\n",
        "for i in range(numSampleInput, nSample):\n",
        "  if i % 100000 == 0:\n",
        "    print(i)\n",
        "  thisInput = torch.unsqueeze(torch.tensor(predicted[:,i-numSampleInput:i]),0)\n",
        "  with torch.no_grad():\n",
        "    if torch.cuda.is_available():\n",
        "      thisInput = thisInput.to('cuda')\n",
        "    thisOutput = model(thisInput).detach().cpu().numpy().squeeze()\n",
        "    if np.any(np.isnan(thisOutput)):\n",
        "      print(\"nan: \" + str(i))\n",
        "      break\n",
        "  thisResidual = data[:,i] - thisOutput\n",
        "  #_, index = kmeans.index.search(np.expand_dims(residual,0),1)\n",
        "  #index = int(index[0][0])\n",
        "  index = int(kmeansCuml.predict(np.expand_dims(thisResidual, 0))[0])\n",
        "\n",
        "  predicted[:,i] = thisOutput + centroids[index,:]"
      ],
      "metadata": {
        "colab": {
          "base_uri": "https://localhost:8080/"
        },
        "id": "Nuo2KzlTTDqP",
        "outputId": "a730a2cf-8c48-49db-dbe9-a6d3204499c6"
      },
      "execution_count": null,
      "outputs": [
        {
          "output_type": "stream",
          "name": "stdout",
          "text": [
            "nan: 9191\n"
          ]
        }
      ]
    },
    {
      "cell_type": "code",
      "source": [
        "path = '/content/drive/MyDrive/NeuroResearch/Data/eegCompress/processedData/origAndPredictedLossy.npz'\n",
        "dataToSaveList = [data, predicted]\n",
        "np.savez_compressed(path, *dataToSaveList)"
      ],
      "metadata": {
        "id": "vImqGqzJS8Dh"
      },
      "execution_count": null,
      "outputs": []
    },
    {
      "cell_type": "markdown",
      "source": [
        "# Scratch"
      ],
      "metadata": {
        "id": "jaK1mJneWd4k"
      }
    }
  ]
}