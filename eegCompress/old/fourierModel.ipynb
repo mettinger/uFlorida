{
 "cells": [
  {
   "cell_type": "code",
   "execution_count": 1,
   "id": "e8a6adfe-e8b2-488d-b433-e796bfbf1ddc",
   "metadata": {
    "tags": []
   },
   "outputs": [],
   "source": [
    "import torch\n",
    "import torch.nn as nn\n",
    "import torch.nn.functional as F\n",
    "import numpy as np"
   ]
  },
  {
   "cell_type": "code",
   "execution_count": 31,
   "id": "7d9d7855-2ac7-44bf-88d3-db03ef1ad502",
   "metadata": {
    "tags": []
   },
   "outputs": [],
   "source": [
    "class fanLayer(nn.Module):\n",
    "    def __init__(self, inFeatures, outFourier, outLinear):\n",
    "        super().__init__()\n",
    "        self.weightLinear = nn.Parameter(torch.randn(outLinear, inFeatures))\n",
    "        self.biasLinear = nn.Parameter(torch.randn(outLinear))\n",
    "        \n",
    "        self.weightFourier = nn.Parameter(torch.randn(outFourier, inFeatures))\n",
    "\n",
    "    def forward(self, x):\n",
    "        linear = F.relu(F.linear(x, self.weightLinear, self.biasLinear))\n",
    "        cos = torch.cos(F.linear(x, self.weightFourier))\n",
    "        sin = torch.sin(F.linear(x, self.weightFourier))\n",
    "        \n",
    "        phi = torch.cat((cos, sin, linear), dim=1)\n",
    "        return phi"
   ]
  },
  {
   "cell_type": "code",
   "execution_count": 32,
   "id": "9d8403dc-de5f-4373-871c-61d3202eaa69",
   "metadata": {
    "tags": []
   },
   "outputs": [
    {
     "name": "stdout",
     "output_type": "stream",
     "text": [
      "torch.Size([1, 18])\n",
      "tensor([[-0.4762,  0.9997,  0.9092, -0.6994,  0.6450, -0.8794, -0.0232, -0.4164,\n",
      "         -0.7147,  0.7642,  0.9992,  2.9551,  3.9749,  0.0000,  3.1169,  0.7575,\n",
      "          1.3663,  0.0000]], grad_fn=<CatBackward0>)\n"
     ]
    }
   ],
   "source": [
    "class fourierModel(nn.Module):\n",
    "    def __init__(self):\n",
    "        super().__init__()\n",
    "        \n",
    "        self.fourier1 = fanLayer(10, 5, 8)\n",
    "       \n",
    "    def forward(self, x):\n",
    "        y = self.fourier1(x)\n",
    "        return y\n",
    "\n",
    "model = fourierModel()\n",
    "input_tensor = torch.randn(1, 10)\n",
    "output_tensor = model(input_tensor)\n",
    "print(output_tensor.shape)\n",
    "print(output_tensor)"
   ]
  },
  {
   "cell_type": "code",
   "execution_count": null,
   "id": "f431d24e-8cec-4ec1-81ed-1216be249998",
   "metadata": {},
   "outputs": [],
   "source": []
  }
 ],
 "metadata": {
  "kernelspec": {
   "display_name": "PyTorch-2.2.0",
   "language": "python",
   "name": "pytorch-2.2.0"
  },
  "language_info": {
   "codemirror_mode": {
    "name": "ipython",
    "version": 3
   },
   "file_extension": ".py",
   "mimetype": "text/x-python",
   "name": "python",
   "nbconvert_exporter": "python",
   "pygments_lexer": "ipython3",
   "version": "3.10.13"
  }
 },
 "nbformat": 4,
 "nbformat_minor": 5
}
